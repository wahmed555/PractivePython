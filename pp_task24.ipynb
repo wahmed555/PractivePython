{
 "cells": [
  {
   "cell_type": "code",
   "execution_count": 26,
   "metadata": {},
   "outputs": [
    {
     "name": "stdout",
     "output_type": "stream",
     "text": [
      " __ __ __ __ __ __ __ __ __ __\n",
      "|  |  |  |  |  |  |  |  |  |  |  \n",
      " __ __ __ __ __ __ __ __ __ __\n",
      "|  |  |  |  |  |  |  |  |  |  |  \n",
      " __ __ __ __ __ __ __ __ __ __\n",
      "|  |  |  |  |  |  |  |  |  |  |  \n",
      " __ __ __ __ __ __ __ __ __ __\n",
      "|  |  |  |  |  |  |  |  |  |  |  \n",
      " __ __ __ __ __ __ __ __ __ __\n",
      "|  |  |  |  |  |  |  |  |  |  |  \n",
      " __ __ __ __ __ __ __ __ __ __\n",
      "|  |  |  |  |  |  |  |  |  |  |  \n",
      " __ __ __ __ __ __ __ __ __ __\n",
      "|  |  |  |  |  |  |  |  |  |  |  \n",
      " __ __ __ __ __ __ __ __ __ __\n",
      "|  |  |  |  |  |  |  |  |  |  |  \n",
      " __ __ __ __ __ __ __ __ __ __\n",
      "|  |  |  |  |  |  |  |  |  |  |  \n",
      " __ __ __ __ __ __ __ __ __ __\n",
      "|  |  |  |  |  |  |  |  |  |  |  \n",
      " __ __ __ __ __ __ __ __ __ __\n"
     ]
    }
   ],
   "source": [
    "i=10\n",
    "for x in range(1,i+1):\n",
    "    print(\" __\"*i)\n",
    "    print(\"|  \"*(i+1))\n",
    "print(\" __\"*i)\n",
    "    "
   ]
  },
  {
   "cell_type": "code",
   "execution_count": 34,
   "metadata": {},
   "outputs": [],
   "source": [
    "# Method 1: function Defination\n",
    "def tictak(i=3):   \n",
    "    \n",
    "    for x in range(1,i+1):\n",
    "        print(\" __\"*i)\n",
    "        print(\"|  \"*(i+1))\n",
    "    print(\" __\"*i)\n"
   ]
  },
  {
   "cell_type": "code",
   "execution_count": 32,
   "metadata": {},
   "outputs": [
    {
     "name": "stdout",
     "output_type": "stream",
     "text": [
      " __ __ __ __ __\n",
      "|  |  |  |  |  |  \n",
      " __ __ __ __ __\n",
      "|  |  |  |  |  |  \n",
      " __ __ __ __ __\n",
      "|  |  |  |  |  |  \n",
      " __ __ __ __ __\n",
      "|  |  |  |  |  |  \n",
      " __ __ __ __ __\n",
      "|  |  |  |  |  |  \n",
      " __ __ __ __ __\n"
     ]
    }
   ],
   "source": [
    "tictak(5)"
   ]
  },
  {
   "cell_type": "code",
   "execution_count": 35,
   "metadata": {},
   "outputs": [
    {
     "name": "stdout",
     "output_type": "stream",
     "text": [
      " --- --- --- \n",
      "|   |   |   |\n",
      " --- --- --- \n",
      "|   |   |   |\n",
      " --- --- --- \n",
      "|   |   |   |\n",
      " --- --- --- \n"
     ]
    }
   ],
   "source": [
    "# Method 2: \n",
    "\n",
    "a = '---'.join('    ')\n",
    "b = '   '.join('||||')\n",
    "print('\\n'.join((a, b, a, b, a, b, a)))"
   ]
  },
  {
   "cell_type": "code",
   "execution_count": 36,
   "metadata": {},
   "outputs": [
    {
     "name": "stdout",
     "output_type": "stream",
     "text": [
      " --- --- --- \n"
     ]
    }
   ],
   "source": [
    "print(a)"
   ]
  },
  {
   "cell_type": "code",
   "execution_count": 37,
   "metadata": {},
   "outputs": [
    {
     "name": "stdout",
     "output_type": "stream",
     "text": [
      "|   |   |   |\n"
     ]
    }
   ],
   "source": [
    "print(b)"
   ]
  },
  {
   "cell_type": "code",
   "execution_count": 78,
   "metadata": {},
   "outputs": [],
   "source": [
    "b = '   '.join('||||')"
   ]
  },
  {
   "cell_type": "code",
   "execution_count": 79,
   "metadata": {},
   "outputs": [
    {
     "name": "stdout",
     "output_type": "stream",
     "text": [
      "|   |   |   |\n"
     ]
    }
   ],
   "source": [
    "print(b)"
   ]
  },
  {
   "cell_type": "code",
   "execution_count": 81,
   "metadata": {},
   "outputs": [
    {
     "name": "stdout",
     "output_type": "stream",
     "text": [
      "1 +  2 +  3 +  4 +  5\n"
     ]
    }
   ],
   "source": [
    "b = ' +  '.join('12345')\n",
    "print(b)"
   ]
  },
  {
   "cell_type": "code",
   "execution_count": null,
   "metadata": {},
   "outputs": [],
   "source": []
  }
 ],
 "metadata": {
  "kernelspec": {
   "display_name": "Python 3",
   "language": "python",
   "name": "python3"
  },
  "language_info": {
   "codemirror_mode": {
    "name": "ipython",
    "version": 3
   },
   "file_extension": ".py",
   "mimetype": "text/x-python",
   "name": "python",
   "nbconvert_exporter": "python",
   "pygments_lexer": "ipython3",
   "version": "3.6.5"
  }
 },
 "nbformat": 4,
 "nbformat_minor": 2
}

{
 "cells": [
  {
   "cell_type": "markdown",
   "metadata": {},
   "source": [
    "Hangman  \n",
    "Exercise 32 (and Solution)\n",
    "This exercise is Part 3 of 3 of the Hangman exercise series. The other exercises are: Part 1 and Part 2.\n",
    "\n",
    "You can start your Python journey anywhere, but to finish this exercise you will have to have finished Parts 1 and 2 or use the solutions (Part 1 and Part 2).\n",
    "\n",
    "In this exercise, we will finish building Hangman. In the game of Hangman, the player only has 6 incorrect guesses (head, body, 2 legs, and 2 arms) before they lose the game.\n",
    "\n",
    "In Part 1, we loaded a random word list and picked a word from it. In Part 2, we wrote the logic for guessing the letter and displaying that information to the user. In this exercise, we have to put it all together and add logic for handling guesses.\n",
    "\n",
    "Copy your code from Parts 1 and 2 into a new file as a starting point. Now add the following features:\n",
    "\n",
    "Only let the user guess 6 times, and tell the user how many guesses they have left.\n",
    "Keep track of the letters the user guessed. If the user guesses a letter they already guessed, don’t penalize them - let them guess again.\n",
    "Optional additions:\n",
    "\n",
    "When the player wins or loses, let them start a new game.\n",
    "Rather than telling the user \"You have 4 incorrect guesses left\", display some picture art for the Hangman. This is challenging - do the other parts of the exercise first!\n",
    "Your solution will be a lot cleaner if you make use of functions to help you!"
   ]
  },
  {
   "cell_type": "code",
   "execution_count": 11,
   "metadata": {},
   "outputs": [],
   "source": [
    "import random\n",
    "def wordpick():\n",
    "    with open(\"hanglist.txt\",\"r\") as f_obj:\n",
    "        line=f_obj.readlines()\n",
    "\n",
    "    randomPick=random.choice(line)\n",
    "    return randomPick[:-2]"
   ]
  },
  {
   "cell_type": "code",
   "execution_count": 12,
   "metadata": {},
   "outputs": [
    {
     "data": {
      "text/plain": [
       "'UNEAT'"
      ]
     },
     "execution_count": 12,
     "metadata": {},
     "output_type": "execute_result"
    }
   ],
   "source": [
    "k=wordpick()\n",
    "k"
   ]
  },
  {
   "cell_type": "code",
   "execution_count": 8,
   "metadata": {},
   "outputs": [],
   "source": [
    "# VER 3.0\n",
    "wrd=\"EVAPORATE\"\n",
    "def guessGame(wrd):\n",
    "#     wrd=\"EVAPORATE\"\n",
    "    wrd=list(wrd)\n",
    "    guessedAlready=[]\n",
    "    guessed=[]\n",
    "    hiddenWrd=\"_\"*len(wrd)\n",
    "    print(hiddenWrd)\n",
    "    hiddenWrd=list(hiddenWrd)\n",
    "\n",
    "    attempt=6\n",
    "    while( attempt>0):\n",
    "\n",
    "        guess=input(\"Enter the guess, \"+ str(attempt) +\" attempts left.\")\n",
    "\n",
    "        if (guess in guessedAlready):\n",
    "    #         k=set(wrd):\n",
    "            if (guess in set(wrd)):\n",
    "                print(\"Mark letter is already a match.\")\n",
    "                index=wrd.index(guess) \n",
    "                hiddenWrd[index]=guess\n",
    "                wrd[index]='-'\n",
    "            else:\n",
    "                print(\" already done tried You loosing chance\")\n",
    "\n",
    "        elif guess in wrd:\n",
    "            attempt-=1\n",
    "            index=wrd.index(guess)\n",
    "            print(\" wrd  is good match.\")\n",
    "#             print (\"Location index: \",index)\n",
    "            guessedAlready.append(guess)\n",
    "            wrd[index]='-'\n",
    "            hiddenWrd[index]=guess\n",
    "            while (guess in set(wrd)):\n",
    "                index=wrd.index(guess)\n",
    "                hiddenWrd[index]=guess\n",
    "                wrd[index]='-'            #replacing or deleting the coorectly guessed letters\n",
    "            print(hiddenWrd)\n",
    "        else:\n",
    "            attempt-=1\n",
    "            print(\" not already nor in the wrd , means you are lost an attempt\")\n",
    "    if '_' not in hiddenWrd:\n",
    "        print(\"You WON the match.\")\n",
    "    else:\n",
    "        print(\"Your hang man died\")\n",
    "    d=('').join(hiddenWrd)\n",
    "    print(d)"
   ]
  },
  {
   "cell_type": "code",
   "execution_count": 13,
   "metadata": {},
   "outputs": [
    {
     "name": "stdout",
     "output_type": "stream",
     "text": [
      "_____\n",
      "Enter the guess, 6 attempts left.A\n",
      " wrd  is good match.\n",
      "['_', '_', '_', 'A', '_']\n",
      "Enter the guess, 5 attempts left.O\n",
      " not already nor in the wrd , means you are lost an attempt\n",
      "Enter the guess, 4 attempts left.N\n",
      " wrd  is good match.\n",
      "['_', 'N', '_', 'A', '_']\n",
      "Enter the guess, 3 attempts left.Y\n",
      " not already nor in the wrd , means you are lost an attempt\n",
      "Enter the guess, 2 attempts left.E\n",
      " wrd  is good match.\n",
      "['_', 'N', 'E', 'A', '_']\n",
      "Enter the guess, 1 attempts left.K\n",
      " not already nor in the wrd , means you are lost an attempt\n",
      "Your hang man died\n",
      "_NEA_\n"
     ]
    }
   ],
   "source": [
    "guessGame(k)"
   ]
  },
  {
   "cell_type": "code",
   "execution_count": null,
   "metadata": {},
   "outputs": [],
   "source": []
  }
 ],
 "metadata": {
  "kernelspec": {
   "display_name": "Python 3",
   "language": "python",
   "name": "python3"
  },
  "language_info": {
   "codemirror_mode": {
    "name": "ipython",
    "version": 3
   },
   "file_extension": ".py",
   "mimetype": "text/x-python",
   "name": "python",
   "nbconvert_exporter": "python",
   "pygments_lexer": "ipython3",
   "version": "3.6.5"
  }
 },
 "nbformat": 4,
 "nbformat_minor": 2
}

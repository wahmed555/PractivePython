{
 "cells": [
  {
   "cell_type": "markdown",
   "metadata": {},
   "source": [
    "Birthday Plots   \n",
    "\n",
    "Exercise 36 (and Solution)\n",
    "\n",
    "This exercise is Part 4 of 4 of the birthday data exercise series. The other exercises are: Part 1, Part 2, and Part 3.\n",
    "\n",
    "In the previous exercise we counted how many birthdays there are in each month in our dictionary of birthdays.\n",
    "\n",
    "In this exercise, use the bokeh Python library to plot a histogram of which months the scientists have birthdays in! Because it would take a long time for you to input the months of various scientists, you can use my scientist birthday JSON file. Just parse out the months (if you don’t know how, I suggest looking at the previous exercise or its solution) and draw your histogram.\n",
    "\n",
    "If you are using a purely web-based interface for coding, this exercise won’t work for you, since it requires installing the bokeh Python package. Now might be a good time to install Python on your own computer."
   ]
  },
  {
   "cell_type": "code",
   "execution_count": 22,
   "metadata": {},
   "outputs": [
    {
     "name": "stdout",
     "output_type": "stream",
     "text": [
      "Welcome to the birthday dictionary.\n",
      "Press 'r' to  search and 'a' to add new record. \n",
      " 'q to quit .'r\n",
      "We know the birthdays of:\n",
      "Garu\n",
      "30-02-2002\n",
      "Rahim\n",
      "12-05-1985\n",
      "Qari\n",
      "30-02-1992\n",
      "hamza\n",
      "18-11-1997\n",
      "chucha\n",
      "18-11-2017\n",
      "Haris\n",
      "12-04-2006\n",
      "['02', '05', '02', '11', '11', '04']\n",
      "['February', 'May', 'February', 'November', 'November', 'April']\n",
      "Counter({'February': 2, 'November': 2, 'May': 1, 'April': 1})\n",
      "<class 'collections.Counter'>\n",
      "['February', 'May', 'November', 'April']\n",
      "[2, 1, 2, 1]\n",
      "Press 'r' to  search and 'a' to add new record. \n",
      " 'q to quit .'q\n"
     ]
    }
   ],
   "source": [
    "\n",
    "# Reading a JSON file as dictionary and reading \n",
    "num_to_string = {\n",
    "1: \"January\",\n",
    "2: \"February\",\n",
    "3: \"March\",\n",
    "4: \"April\",\n",
    "5: \"May\",\n",
    "6: \"June\",\n",
    "7: \"July\",\n",
    "8: \"August\",\n",
    "9: \"September\",\n",
    "10: \"October\",\n",
    "11: \"November\",\n",
    "12: \"December\"\n",
    "}\n",
    "kx=[]\n",
    "ky=[]\n",
    "\n",
    "import json\n",
    "# Reading a JSON file as dictionary and reading \n",
    "from collections import Counter\n",
    "\n",
    "# need to import at least 3 things to make your\n",
    "# bokeh plots work\n",
    "from bokeh.plotting import figure, show, output_file\n",
    "\n",
    "# we specify an HTML file where the output will go\n",
    "output_file(\"plot1.html\")\n",
    "\n",
    "# load our x and y data\n",
    "\n",
    "print(\"Welcome to the birthday dictionary.\")\n",
    "with open(\"bdayb.json\",\"r+\") as f_obj2:\n",
    "        d=json.load(f_obj2)\n",
    "selection=True\n",
    "while (selection!='q'):\n",
    "    selection=input(\"Press 'r' to  search and 'a' to add new record. \\n 'q to quit .'\"  )  \n",
    "    if selection=='q':\n",
    "        break\n",
    "    print(\"We know the birthdays of:\")\n",
    "    # for[print(i): i in bdays.keys()]\n",
    "    l1=[]\n",
    "    for k,v in d.items():\n",
    "        print(k)\n",
    "        print(v)\n",
    "        l1.append(v[3:-5])\n",
    "    print(l1)\n",
    "    \n",
    "    l2=[]\n",
    "    for e in l1:\n",
    "        for k,v in num_to_string.items():\n",
    "            if int(e)==k:\n",
    "#                 print(e)\n",
    "                l2.append(v)\n",
    "    print(l2)     \n",
    "#         if l1==num_to_string.keys():\n",
    "#             l2.append(v)\n",
    "    \n",
    "      \n",
    "    \n",
    "    c = Counter(l2)\n",
    "    print(c)\n",
    "    print(type(c))\n",
    "   \n",
    "    for k,v in c.items():\n",
    "        kx.append(k)\n",
    "        ky.append(v)\n",
    "    print(kx)\n",
    "    print(ky)\n",
    "\n",
    "    # create a figure\n",
    "    p=figure()\n",
    "    \n",
    "    # create a histogram\n",
    "#     p.vbar(x=kx,top=y,width=0.25)\n",
    "#     p.vbar(x=x, top=y, width=0.5)\n",
    "\n",
    "\n",
    "    output_file(\"plot1.html\")\n",
    "    x_categories = [\"January\",\"February\",\"March\",\"April\",\"May\",\"June\", \"July\",\"August\",\"September\",\"October\",\"November\", \"December\"]\n",
    "    x = kx[:]\n",
    "    y = ky[:]\n",
    "\n",
    "    p = figure(x_range=x_categories)\n",
    "    p.vbar(x=x, top=y, width=0.5)\n",
    "\n",
    "    show(p)\n",
    "\n",
    "\n",
    "\n",
    "\n",
    "\n",
    "    # render (show) the plot\n",
    "    show(p)"
   ]
  },
  {
   "cell_type": "code",
   "execution_count": null,
   "metadata": {
    "collapsed": true
   },
   "outputs": [],
   "source": []
  },
  {
   "cell_type": "code",
   "execution_count": null,
   "metadata": {
    "collapsed": true
   },
   "outputs": [],
   "source": []
  },
  {
   "cell_type": "code",
   "execution_count": null,
   "metadata": {
    "collapsed": true
   },
   "outputs": [],
   "source": []
  },
  {
   "cell_type": "code",
   "execution_count": null,
   "metadata": {
    "collapsed": true
   },
   "outputs": [],
   "source": []
  },
  {
   "cell_type": "code",
   "execution_count": null,
   "metadata": {
    "collapsed": true
   },
   "outputs": [],
   "source": []
  },
  {
   "cell_type": "code",
   "execution_count": null,
   "metadata": {
    "collapsed": true
   },
   "outputs": [],
   "source": []
  },
  {
   "cell_type": "code",
   "execution_count": null,
   "metadata": {
    "collapsed": true
   },
   "outputs": [],
   "source": []
  },
  {
   "cell_type": "code",
   "execution_count": 1,
   "metadata": {
    "collapsed": true
   },
   "outputs": [],
   "source": [
    "# need to import at least 3 things to make your\n",
    "# bokeh plots work\n",
    "from bokeh.plotting import figure, show, output_file\n"
   ]
  },
  {
   "cell_type": "code",
   "execution_count": 2,
   "metadata": {
    "collapsed": true
   },
   "outputs": [],
   "source": [
    "# we specify an HTML file where the output will go\n",
    "output_file(\"plot1.html\")"
   ]
  },
  {
   "cell_type": "code",
   "execution_count": 3,
   "metadata": {
    "collapsed": true
   },
   "outputs": [],
   "source": [
    "# load our x and y data\n",
    "x=[10,20,30]\n",
    "y=[4,5,6]"
   ]
  },
  {
   "cell_type": "code",
   "execution_count": 4,
   "metadata": {
    "collapsed": true
   },
   "outputs": [],
   "source": [
    "# create a figure\n",
    "p=figure()"
   ]
  },
  {
   "cell_type": "code",
   "execution_count": 5,
   "metadata": {},
   "outputs": [
    {
     "data": {
      "text/html": [
       "<div style=\"display: table;\"><div style=\"display: table-row;\"><div style=\"display: table-cell;\"><b title=\"bokeh.models.renderers.GlyphRenderer\">GlyphRenderer</b>(</div><div style=\"display: table-cell;\">id&nbsp;=&nbsp;'1038', <span id=\"1041\" style=\"cursor: pointer;\">&hellip;)</span></div></div><div class=\"1040\" style=\"display: none;\"><div style=\"display: table-cell;\"></div><div style=\"display: table-cell;\">data_source&nbsp;=&nbsp;ColumnDataSource(id='1035', ...),</div></div><div class=\"1040\" style=\"display: none;\"><div style=\"display: table-cell;\"></div><div style=\"display: table-cell;\">glyph&nbsp;=&nbsp;VBar(id='1036', ...),</div></div><div class=\"1040\" style=\"display: none;\"><div style=\"display: table-cell;\"></div><div style=\"display: table-cell;\">hover_glyph&nbsp;=&nbsp;None,</div></div><div class=\"1040\" style=\"display: none;\"><div style=\"display: table-cell;\"></div><div style=\"display: table-cell;\">js_event_callbacks&nbsp;=&nbsp;{},</div></div><div class=\"1040\" style=\"display: none;\"><div style=\"display: table-cell;\"></div><div style=\"display: table-cell;\">js_property_callbacks&nbsp;=&nbsp;{},</div></div><div class=\"1040\" style=\"display: none;\"><div style=\"display: table-cell;\"></div><div style=\"display: table-cell;\">level&nbsp;=&nbsp;'glyph',</div></div><div class=\"1040\" style=\"display: none;\"><div style=\"display: table-cell;\"></div><div style=\"display: table-cell;\">muted&nbsp;=&nbsp;False,</div></div><div class=\"1040\" style=\"display: none;\"><div style=\"display: table-cell;\"></div><div style=\"display: table-cell;\">muted_glyph&nbsp;=&nbsp;None,</div></div><div class=\"1040\" style=\"display: none;\"><div style=\"display: table-cell;\"></div><div style=\"display: table-cell;\">name&nbsp;=&nbsp;None,</div></div><div class=\"1040\" style=\"display: none;\"><div style=\"display: table-cell;\"></div><div style=\"display: table-cell;\">nonselection_glyph&nbsp;=&nbsp;VBar(id='1037', ...),</div></div><div class=\"1040\" style=\"display: none;\"><div style=\"display: table-cell;\"></div><div style=\"display: table-cell;\">selection_glyph&nbsp;=&nbsp;None,</div></div><div class=\"1040\" style=\"display: none;\"><div style=\"display: table-cell;\"></div><div style=\"display: table-cell;\">subscribed_events&nbsp;=&nbsp;[],</div></div><div class=\"1040\" style=\"display: none;\"><div style=\"display: table-cell;\"></div><div style=\"display: table-cell;\">tags&nbsp;=&nbsp;[],</div></div><div class=\"1040\" style=\"display: none;\"><div style=\"display: table-cell;\"></div><div style=\"display: table-cell;\">view&nbsp;=&nbsp;CDSView(id='1039', ...),</div></div><div class=\"1040\" style=\"display: none;\"><div style=\"display: table-cell;\"></div><div style=\"display: table-cell;\">visible&nbsp;=&nbsp;True,</div></div><div class=\"1040\" style=\"display: none;\"><div style=\"display: table-cell;\"></div><div style=\"display: table-cell;\">x_range_name&nbsp;=&nbsp;'default',</div></div><div class=\"1040\" style=\"display: none;\"><div style=\"display: table-cell;\"></div><div style=\"display: table-cell;\">y_range_name&nbsp;=&nbsp;'default')</div></div></div>\n",
       "<script>\n",
       "(function() {\n",
       "  var expanded = false;\n",
       "  var ellipsis = document.getElementById(\"1041\");\n",
       "  ellipsis.addEventListener(\"click\", function() {\n",
       "    var rows = document.getElementsByClassName(\"1040\");\n",
       "    for (var i = 0; i < rows.length; i++) {\n",
       "      var el = rows[i];\n",
       "      el.style.display = expanded ? \"none\" : \"table-row\";\n",
       "    }\n",
       "    ellipsis.innerHTML = expanded ? \"&hellip;)\" : \"&lsaquo;&lsaquo;&lsaquo;\";\n",
       "    expanded = !expanded;\n",
       "  });\n",
       "})();\n",
       "</script>\n"
      ],
      "text/plain": [
       "GlyphRenderer(id='1038', ...)"
      ]
     },
     "execution_count": 5,
     "metadata": {},
     "output_type": "execute_result"
    }
   ],
   "source": [
    "# create a histogram\n",
    "p.vbar(x=x,top=y,width=0.5)"
   ]
  },
  {
   "cell_type": "code",
   "execution_count": 6,
   "metadata": {
    "collapsed": true
   },
   "outputs": [],
   "source": [
    "# render (show) the plot\n",
    "show(p)"
   ]
  },
  {
   "cell_type": "code",
   "execution_count": null,
   "metadata": {
    "collapsed": true
   },
   "outputs": [],
   "source": [
    "\n",
    "\n",
    "\n"
   ]
  },
  {
   "cell_type": "code",
   "execution_count": null,
   "metadata": {
    "collapsed": true
   },
   "outputs": [],
   "source": []
  },
  {
   "cell_type": "code",
   "execution_count": null,
   "metadata": {
    "collapsed": true
   },
   "outputs": [],
   "source": []
  },
  {
   "cell_type": "code",
   "execution_count": 13,
   "metadata": {
    "collapsed": true
   },
   "outputs": [],
   "source": [
    "output_file=(\"plot.html\")\n",
    "x_categories=[\"a\",\"b\",\"c\",\"d\",\"e\",\"f\"]\n",
    "x=[\"a\",\"b\",\"e\"]\n",
    "y=[4,5,6]\n",
    "p=figure(x_range=x_categories)\n",
    "# p = figure(x_range=x_categories)\n",
    "p.vbar(x=x,top=y,width=0.5)\n",
    "show(p)"
   ]
  },
  {
   "cell_type": "code",
   "execution_count": null,
   "metadata": {
    "collapsed": true
   },
   "outputs": [],
   "source": []
  }
 ],
 "metadata": {
  "kernelspec": {
   "display_name": "Python 3",
   "language": "python",
   "name": "python3"
  },
  "language_info": {
   "codemirror_mode": {
    "name": "ipython",
    "version": 3
   },
   "file_extension": ".py",
   "mimetype": "text/x-python",
   "name": "python",
   "nbconvert_exporter": "python",
   "pygments_lexer": "ipython3",
   "version": "3.6.3"
  }
 },
 "nbformat": 4,
 "nbformat_minor": 2
}

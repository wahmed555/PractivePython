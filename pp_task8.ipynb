{
 "cells": [
  {
   "cell_type": "markdown",
   "metadata": {},
   "source": [
    "Exercise 8 (and Solution)\n",
    "\n",
    "Make a two-player Rock-Paper-Scissors game. (Hint: Ask for player plays (using input), compare them, print out a message of congratulations to the winner, and ask if the players want to start a new game)"
   ]
  },
  {
   "cell_type": "code",
   "execution_count": 18,
   "metadata": {},
   "outputs": [
    {
     "name": "stdout",
     "output_type": "stream",
     "text": [
      "user1 Enter from rock, paper, sissor rock\n",
      "user2  enter from rock, paper, sissorpaper\n",
      " user1  wins because paper beats rock\n"
     ]
    }
   ],
   "source": [
    "# Method 1\n",
    "\n",
    "user1=input(\"user1 Enter from rock, paper, sissor \")\n",
    "user2=input(\"user2  enter from rock, paper, sissor\")\n",
    "\n",
    "if (user1=='rock') and (user2 =='sissor'):\n",
    "    print(\" user1  wins because rock beats sissor\")\n",
    "\n",
    "elif (user1=='paper') and (user2 =='sissor'):\n",
    "    print(\" user2  wins because sissor beats paper \")\n",
    "\n",
    "elif (user1=='sissor') and (user2 =='sissor'):\n",
    "    print(\" No user  wins because paper beats paper\")\n",
    "\n",
    "elif (user1=='rock') and (user2 =='rock'):\n",
    "    print(\" No user  wins because rock beats rock\")\n",
    "    \n",
    "elif (user1=='paper') and (user2 =='rock'):\n",
    "    print(\" user1  wins because paper beats rock\")\n",
    "    \n",
    "elif ((user1=='sissor') and (user2 =='rock')):\n",
    "    print(\" user2  wins because rock beats sissor\")\n",
    "\n",
    "elif (user1=='rock') and (user2 =='paper'):\n",
    "    print(\" user1  wins because paper beats rock\")\n",
    "    \n",
    "elif (user1=='paper') and (user2 =='paper'):\n",
    "    print(\" No user wins because paper beats paper\")\n",
    "    \n",
    "elif (user1=='sissor') and (user2 =='paper'):\n",
    "    print(\" user1  wins because sissor beats rock \")\n",
    "    \n",
    "else:\n",
    "    print(\"No result\")"
   ]
  },
  {
   "cell_type": "code",
   "execution_count": 17,
   "metadata": {},
   "outputs": [
    {
     "name": "stdout",
     "output_type": "stream",
     "text": [
      "user1 Enter from rock, paper, sissor rock\n",
      "user2  enter from rock, paper, sissorpaper\n",
      " user1  wins because paper beats rock\n"
     ]
    }
   ],
   "source": [
    "# Method 2\n",
    "\n",
    "user1=input(\"user1 Enter from rock, paper, sissor \")\n",
    "user2=input(\"user2  enter from rock, paper, sissor\")\n",
    "\n",
    "def game(user1,user2):\n",
    "    if (user1=='rock') and (user2 =='sissor'):\n",
    "        print(\" user1  wins because rock beats sissor\")\n",
    "\n",
    "    elif (user1=='paper') and (user2 =='sissor'):\n",
    "        print(\" user2  wins because sissor beats paper \")\n",
    "\n",
    "    elif (user1=='sissor') and (user2 =='sissor'):\n",
    "        print(\" No user  wins because paper beats paper\")\n",
    "\n",
    "    elif (user1=='rock') and (user2 =='rock'):\n",
    "        print(\" No user  wins because rock beats rock\")\n",
    "\n",
    "    elif (user1=='paper') and (user2 =='rock'):\n",
    "        print(\" user1  wins because paper beats rock\")\n",
    "\n",
    "    elif ((user1=='sissor') and (user2 =='rock')):\n",
    "        print(\" user2  wins because rock beats sissor\")\n",
    "\n",
    "    elif (user1=='rock') and (user2 =='paper'):\n",
    "        print(\" user1  wins because paper beats rock\")\n",
    "\n",
    "    elif (user1=='paper') and (user2 =='paper'):\n",
    "        print(\" No user wins because paper beats paper\")\n",
    "\n",
    "    elif (user1=='sissor') and (user2 =='paper'):\n",
    "        print(\" user1  wins because sissor beats rock \")\n",
    "\n",
    "    else:\n",
    "        print(\"No result\")\n",
    "\n",
    "game(user1, user2)"
   ]
  },
  {
   "cell_type": "code",
   "execution_count": null,
   "metadata": {},
   "outputs": [],
   "source": []
  }
 ],
 "metadata": {
  "kernelspec": {
   "display_name": "Python 3",
   "language": "python",
   "name": "python3"
  },
  "language_info": {
   "codemirror_mode": {
    "name": "ipython",
    "version": 3
   },
   "file_extension": ".py",
   "mimetype": "text/x-python",
   "name": "python",
   "nbconvert_exporter": "python",
   "pygments_lexer": "ipython3",
   "version": "3.6.5"
  }
 },
 "nbformat": 4,
 "nbformat_minor": 2
}

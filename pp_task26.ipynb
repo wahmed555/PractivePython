{
 "cells": [
  {
   "cell_type": "markdown",
   "metadata": {},
   "source": [
    "Check Tic Tac Toe  \n",
    "Exercise 26 (and Solution)\n",
    "This exercise is Part 2 of 4 of the Tic Tac Toe exercise series. The other exercises are: Part 1, Part 3, and Part 4.\n",
    "\n",
    "As you may have guessed, we are trying to build up to a full tic-tac-toe board. However, this is significantly more than half an hour of coding, so we’re doing it in pieces.\n",
    "\n",
    "Today, we will simply focus on checking whether someone has WON a game of Tic Tac Toe, not worrying about how the moves were made.\n",
    "\n",
    "If a game of Tic Tac Toe is represented as a list of lists, like so:\n",
    "\n",
    "game = [[1, 2, 0],\n",
    "\t[2, 1, 0],\n",
    "\t[2, 1, 1]]\n",
    "where a 0 means an empty square, a 1 means that player 1 put their token in that space, and a 2 means that player 2 put their token in that space.\n",
    "\n",
    "Your task this week: given a 3 by 3 list of lists that represents a Tic Tac Toe game board, tell me whether anyone has won, and tell me which player won, if any. A Tic Tac Toe win is 3 in a row - either in a row, a column, or a diagonal. Don’t worry about the case where TWO people have won - assume that in every board there will only be one winner.\n",
    "\n",
    "Here are some more examples to work with:\n",
    "\n",
    "winner_is_2 = [[2, 2, 0],\n",
    "\t[2, 1, 0],\n",
    "\t[2, 1, 1]]\n",
    "\n",
    "winner_is_1 = [[1, 2, 0],\n",
    "\t[2, 1, 0],\n",
    "\t[2, 1, 1]]\n",
    "\n",
    "winner_is_also_1 = [[0, 1, 0],\n",
    "\t[2, 1, 0],\n",
    "\t[2, 1, 1]]\n",
    "\n",
    "no_winner = [[1, 2, 0],\n",
    "\t[2, 1, 0],\n",
    "\t[2, 1, 2]]\n",
    "\n",
    "also_no_winner = [[1, 2, 0],\n",
    "\t[2, 1, 0],\n",
    "\t[2, 1, 0]]"
   ]
  },
  {
   "cell_type": "code",
   "execution_count": 6,
   "metadata": {},
   "outputs": [],
   "source": [
    "matrix = [[1, 2,0], [1, 2,0],[1, 0,2]]"
   ]
  },
  {
   "cell_type": "code",
   "execution_count": 7,
   "metadata": {},
   "outputs": [],
   "source": [
    "matrix = [[1, 2,0], [2, 2,2],[1, 0,2]]"
   ]
  },
  {
   "cell_type": "code",
   "execution_count": 64,
   "metadata": {},
   "outputs": [],
   "source": [
    "def horizontalRow():\n",
    "    for i in range(0,3):\n",
    "        if matrix[i][0]==matrix[i][1]==matrix[i][2] and matrix[i][0]!=0:\n",
    "            flagRow=True\n",
    "            print(\"player \" + str(matrix[i][0])  + \" wins in row/ horizontal.\")\n",
    "        else:\n",
    "            pass\n",
    "#             print(\"No horizontal matchin in row %d\" %i)\n",
    "        "
   ]
  },
  {
   "cell_type": "code",
   "execution_count": 55,
   "metadata": {},
   "outputs": [
    {
     "name": "stdout",
     "output_type": "stream",
     "text": [
      "player 2 wins in colum / vertical.\n"
     ]
    }
   ],
   "source": [
    "horizontalRow()"
   ]
  },
  {
   "cell_type": "code",
   "execution_count": 56,
   "metadata": {},
   "outputs": [],
   "source": [
    "def verticalRow():\n",
    "    for i in range(0,3):\n",
    "        if matrix[0][i]==matrix[1][i]==matrix[2][i] and matrix[i][0]!=0:\n",
    "            flagColumn=True\n",
    "            print(\"player \" + str(matrix[0][i])  + \" wins in colum / vertical.\")\n",
    "        else:\n",
    "            pass\n",
    "#             print(\"No vertical matching in row %d\" %i)"
   ]
  },
  {
   "cell_type": "code",
   "execution_count": 57,
   "metadata": {},
   "outputs": [],
   "source": [
    "verticalRow()"
   ]
  },
  {
   "cell_type": "code",
   "execution_count": 67,
   "metadata": {},
   "outputs": [],
   "source": [
    "def Diagnol():\n",
    "    if matrix[0][0]==matrix[1][1]==matrix[2][2] and matrix[1][1]!=0:\n",
    "        flagDiagnol1=True\n",
    "        print(\"player \" +  str(matrix[0][0]) + \" wins diagnol left. \")\n",
    "    elif matrix[0][2]==matrix[1][1]==matrix[2][0] and matrix[1][1]!=0:\n",
    "        flagDiagnol2=True\n",
    "        print(\"player \" + str(matrix[0][2]) + \" wins diagnol right. \")\n",
    "    else:\n",
    "        pass\n",
    "#         print(\"No Diagnol matching in row \")"
   ]
  },
  {
   "cell_type": "code",
   "execution_count": 68,
   "metadata": {},
   "outputs": [],
   "source": [
    "matrix = [[1, 2,0], [2, 1,2],[2, 0,1]]"
   ]
  },
  {
   "cell_type": "code",
   "execution_count": 78,
   "metadata": {},
   "outputs": [],
   "source": [
    "def Check_Tic_Tac_Toe():\n",
    "    flagColumn=False\n",
    "    flagRow=False\n",
    "    flagDiagnol1=False\n",
    "    flagDiagnol2=False\n",
    "    horizontalRow()\n",
    "    verticalRow()\n",
    "    Diagnol()\n",
    "    if flagRow==False or flagColumn==False or flagDiagnol1==False or flagDiagnol2==False:\n",
    "        print(\"No win\")\n",
    "        "
   ]
  },
  {
   "cell_type": "code",
   "execution_count": 79,
   "metadata": {},
   "outputs": [
    {
     "name": "stdout",
     "output_type": "stream",
     "text": [
      "No win\n"
     ]
    }
   ],
   "source": [
    "Check_Tic_Tac_Toe()"
   ]
  },
  {
   "cell_type": "code",
   "execution_count": 80,
   "metadata": {},
   "outputs": [],
   "source": [
    "matrix = [[0, 0,0],\n",
    "          [2, 1,2],\n",
    "          [1, 0,2]]"
   ]
  },
  {
   "cell_type": "code",
   "execution_count": 16,
   "metadata": {},
   "outputs": [
    {
     "name": "stdout",
     "output_type": "stream",
     "text": [
      "1 diagonal wins!\n"
     ]
    }
   ],
   "source": [
    "Method# 2\n",
    "import numpy\n",
    "game = [\n",
    "[2,2,1],\n",
    "[1,1,2],\n",
    "[1,2,1]]\n",
    "set_r = ()\n",
    "set_c = ()\n",
    "def line_match(game):\n",
    "\tfor i in range(3):\n",
    "\t\tset_r = set(game[i])\n",
    "\t\tif len(set_r) == 1 and game[i][0] != 0:\n",
    "\t\t\treturn game[i][0]\n",
    "\treturn 0\n",
    "#transposed column function for future use\n",
    "#def column(game):\n",
    "#\ttrans = numpy.transpose(game)\n",
    "#\tfor i in range(3):\n",
    "#\t\tset_r = set(trans[i])\n",
    "#\t\tif len(set_r) == 1 and trans[i][0] != 0:\n",
    "#\t\t\treturn list(set_r)[0]\n",
    "\n",
    "def diagonal_match(game):\n",
    "\tif game[1][1] != 0:\n",
    "\t\tif game[1][1] == game[0][0] == game[2][2]: \n",
    "\t\t\treturn game[1][1]\n",
    "\t\telif game[1][1] == game[0][2] == game[2][0]:\n",
    "\t\t\treturn game[1][1]\t\t\t\n",
    "\treturn 0\n",
    "if line_match(game) > 0:\t\t\t\n",
    "\tprint (str(line_match(game)) + str(\" row wins!\"))\n",
    "if line_match(numpy.transpose(game)) > 0:\n",
    "\tprint (str(line_match(numpy.transpose(game))) + str(\" column wins!\"))\n",
    "if diagonal_match(game) > 0:\n",
    "\tprint (str(diagonal_match(game)) + str(\" diagonal wins!\"))"
   ]
  },
  {
   "cell_type": "code",
   "execution_count": 34,
   "metadata": {},
   "outputs": [],
   "source": [
    "game = [\n",
    "[2,2,1],\n",
    "[1,1,2],\n",
    "[1,2,1]]"
   ]
  },
  {
   "cell_type": "code",
   "execution_count": 41,
   "metadata": {},
   "outputs": [],
   "source": [
    "set_r = ()"
   ]
  },
  {
   "cell_type": "code",
   "execution_count": 43,
   "metadata": {},
   "outputs": [
    {
     "ename": "IndexError",
     "evalue": "list index out of range",
     "output_type": "error",
     "traceback": [
      "\u001b[1;31m---------------------------------------------------------------------------\u001b[0m",
      "\u001b[1;31mIndexError\u001b[0m                                Traceback (most recent call last)",
      "\u001b[1;32m<ipython-input-43-971e5d84259e>\u001b[0m in \u001b[0;36m<module>\u001b[1;34m()\u001b[0m\n\u001b[1;32m----> 1\u001b[1;33m \u001b[0mset_r\u001b[0m \u001b[1;33m=\u001b[0m \u001b[0mset\u001b[0m\u001b[1;33m(\u001b[0m\u001b[0mgame\u001b[0m\u001b[1;33m[\u001b[0m\u001b[1;36m5\u001b[0m\u001b[1;33m]\u001b[0m\u001b[1;33m)\u001b[0m\u001b[1;33m\u001b[0m\u001b[0m\n\u001b[0m\u001b[0;32m      2\u001b[0m \u001b[0mset_r\u001b[0m\u001b[1;33m\u001b[0m\u001b[0m\n",
      "\u001b[1;31mIndexError\u001b[0m: list index out of range"
     ]
    }
   ],
   "source": [
    "set_r = set(game[5])\n",
    "set_r"
   ]
  },
  {
   "cell_type": "code",
   "execution_count": 46,
   "metadata": {},
   "outputs": [
    {
     "data": {
      "text/plain": [
       "[1, 2, 1]"
      ]
     },
     "execution_count": 46,
     "metadata": {},
     "output_type": "execute_result"
    }
   ],
   "source": [
    "game[2]"
   ]
  },
  {
   "cell_type": "code",
   "execution_count": null,
   "metadata": {},
   "outputs": [],
   "source": []
  }
 ],
 "metadata": {
  "kernelspec": {
   "display_name": "Python 3",
   "language": "python",
   "name": "python3"
  },
  "language_info": {
   "codemirror_mode": {
    "name": "ipython",
    "version": 3
   },
   "file_extension": ".py",
   "mimetype": "text/x-python",
   "name": "python",
   "nbconvert_exporter": "python",
   "pygments_lexer": "ipython3",
   "version": "3.6.5"
  }
 },
 "nbformat": 4,
 "nbformat_minor": 2
}

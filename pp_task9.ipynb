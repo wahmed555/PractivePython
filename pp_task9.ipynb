{
 "cells": [
  {
   "cell_type": "markdown",
   "metadata": {},
   "source": [
    "\n",
    "Generate a random number between 1 and 9 (including 1 and 9). Ask the user to guess the number, then tell them whether they guessed too low, too high, or exactly right. (Hint: remember to use the user input lessons from the very first exercise)"
   ]
  },
  {
   "cell_type": "code",
   "execution_count": 14,
   "metadata": {},
   "outputs": [
    {
     "name": "stdout",
     "output_type": "stream",
     "text": [
      "Enter  your guess 5\n",
      "\n",
      " in correct match \n"
     ]
    }
   ],
   "source": [
    "import random\n",
    "a=random.randint(2,9)\n",
    "b=int(input(\"Enter  your guess \"))\n",
    "if a==b:\n",
    "    print(\"your guess is correct\")\n",
    "else :\n",
    "    print(\"\\n in correct match \")\n",
    "    "
   ]
  },
  {
   "cell_type": "code",
   "execution_count": 15,
   "metadata": {},
   "outputs": [
    {
     "data": {
      "text/plain": [
       "8"
      ]
     },
     "execution_count": 15,
     "metadata": {},
     "output_type": "execute_result"
    }
   ],
   "source": [
    "a\n"
   ]
  },
  {
   "cell_type": "markdown",
   "metadata": {},
   "source": [
    "Extras:\n",
    "\n",
    "Keep the game going until the user types “exit”\n",
    "\n",
    "Keep track of how many guesses the user has taken, and when the game ends, print this out."
   ]
  },
  {
   "cell_type": "code",
   "execution_count": 28,
   "metadata": {},
   "outputs": [
    {
     "name": "stdout",
     "output_type": "stream",
     "text": [
      "Press c to continue to start guessing game or 'q' to exit c\n",
      "Enter  your guess 5\n",
      "your guess is greater\n",
      "Press c to continue to start guessing game or 'q' to exit c\n",
      "Enter  your guess 2\n",
      "your guess is smaller\n",
      "\n",
      " in correct match , computer thought of 5\n",
      "Press c to continue to start guessing game or 'q' to exit c\n",
      "Enter  your guess 7\n",
      "your guess is smaller\n",
      "\n",
      " in correct match , computer thought of 8\n",
      "Press c to continue to start guessing game or 'q' to exit q\n",
      "8\n",
      "7\n",
      "num ber of tries : 3\n"
     ]
    }
   ],
   "source": [
    "import random\n",
    "k='k'\n",
    "tries=0\n",
    "while(k!='q'):\n",
    "    \n",
    "    k=input(\"Press c to continue to start guessing game or 'q' to exit \")\n",
    "    if k=='q':\n",
    "        break\n",
    "        \n",
    "    a=random.randint(2,9)\n",
    "    b=int(input(\"Enter  your guess \"))\n",
    "    \n",
    "    if b<a:\n",
    "        print(\"your guess is smaller\")\n",
    "    if b>a:\n",
    "        print(\"your guess is greater\")\n",
    "    else :\n",
    "        print(\"\\n in correct match , computer thought of %d\"  %a)\n",
    "    tries+=1\n",
    "    \n",
    "print(a)\n",
    "print(b)\n",
    "print(\"num ber of tries :\" ,tries)"
   ]
  },
  {
   "cell_type": "code",
   "execution_count": null,
   "metadata": {},
   "outputs": [],
   "source": []
  }
 ],
 "metadata": {
  "kernelspec": {
   "display_name": "Python 3",
   "language": "python",
   "name": "python3"
  },
  "language_info": {
   "codemirror_mode": {
    "name": "ipython",
    "version": 3
   },
   "file_extension": ".py",
   "mimetype": "text/x-python",
   "name": "python",
   "nbconvert_exporter": "python",
   "pygments_lexer": "ipython3",
   "version": "3.6.5"
  }
 },
 "nbformat": 4,
 "nbformat_minor": 2
}

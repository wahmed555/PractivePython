{
 "cells": [
  {
   "cell_type": "markdown",
   "metadata": {},
   "source": [
    "Exercise 2 (and Solution)\n",
    "\n",
    "Ask the user for a number. Depending on whether the number is even or odd, print out an appropriate message to the user.\n",
    "\n",
    "Hint: how does an even / odd number react differently when divided by 2?"
   ]
  },
  {
   "cell_type": "code",
   "execution_count": 9,
   "metadata": {},
   "outputs": [
    {
     "name": "stdout",
     "output_type": "stream",
     "text": [
      " enter the rundom to  labeled as even or odd4\n",
      " Number is even\n"
     ]
    }
   ],
   "source": [
    "\n",
    "n1=int(input(\" enter the rundom to  labeled as even or odd\"))\n",
    "if (n1%2==0)and (n1>=0):\n",
    "    print(\" Number is even\")\n",
    "elif (n1>0):\n",
    "    print(\"number is odd\")\n",
    "else:\n",
    "    print(\" invalid Entry\")"
   ]
  },
  {
   "cell_type": "markdown",
   "metadata": {},
   "source": [
    "EXTRA_2:\n",
    "\n",
    "If the number is a multiple of 4, print out a different message."
   ]
  },
  {
   "cell_type": "code",
   "execution_count": 13,
   "metadata": {},
   "outputs": [
    {
     "name": "stdout",
     "output_type": "stream",
     "text": [
      " enter the rundom to labeled as even or odd -9\n",
      " invalid Entry\n"
     ]
    }
   ],
   "source": [
    "\n",
    "\n",
    "n1=int(input(\" enter the rundom to labeled as even or odd \"))\n",
    "\n",
    "if n1%4==0:\n",
    "    print(\"wow it is divisible by 4 and thats why is also even.\")\n",
    "elif (n1%2==0)and (n1>=0): # to avoid negative number we use greater than zero\n",
    "    print(\" Number is even\")\n",
    "elif (n1>0):\n",
    "    print(\"number is odd\")\n",
    "else:\n",
    "    print(\" invalid Entry\")"
   ]
  },
  {
   "cell_type": "code",
   "execution_count": null,
   "metadata": {},
   "outputs": [],
   "source": []
  }
 ],
 "metadata": {
  "kernelspec": {
   "display_name": "Python 3",
   "language": "python",
   "name": "python3"
  },
  "language_info": {
   "codemirror_mode": {
    "name": "ipython",
    "version": 3
   },
   "file_extension": ".py",
   "mimetype": "text/x-python",
   "name": "python",
   "nbconvert_exporter": "python",
   "pygments_lexer": "ipython3",
   "version": "3.6.5"
  }
 },
 "nbformat": 4,
 "nbformat_minor": 2
}

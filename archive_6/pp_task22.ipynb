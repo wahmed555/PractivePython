{
 "cells": [
  {
   "cell_type": "code",
   "execution_count": 9,
   "metadata": {},
   "outputs": [
    {
     "name": "stdout",
     "output_type": "stream",
     "text": [
      " file read succesfully \n"
     ]
    },
    {
     "data": {
      "text/plain": [
       "101"
      ]
     },
     "execution_count": 9,
     "metadata": {},
     "output_type": "execute_result"
    }
   ],
   "source": [
    "# 1. you have to open a file in correct mode before you write or read to file\n",
    "fileName='nameslist.txt'\n",
    "accessMode='r'\n",
    "file1=open(fileName,accessMode)\n",
    "# 2. perforing a read operation\n",
    "line1=file1.read()\n",
    "# line2=file1.readline()\n",
    "# 3.closing a file is equally important\n",
    "file1.close()\n",
    "# 4.printing a success or operation confirmation message is equally important\n",
    "print(\" file read succesfully \")\n",
    "\n",
    "split the name \n",
    "tt=line1.split()\n",
    "len(tt)"
   ]
  },
  {
   "cell_type": "markdown",
   "metadata": {},
   "source": [
    "EXTRA\n",
    "\n",
    "Instead of using the .txt file from above (or instead of, if you want the challenge), take this .txt file, and count how many of each “category” of each image there are. This text file is actually a list of files corresponding to the SUN database scene recognition database, and lists the file directory hierarchy for the images. Once you take a look at the first line or two of the file, it will be clear which part represents the scene category. To do this, you’re going to have to remember a bit about string parsing in Python 3. I talked a little bit about it in this post."
   ]
  },
  {
   "cell_type": "code",
   "execution_count": 1,
   "metadata": {},
   "outputs": [
    {
     "name": "stdout",
     "output_type": "stream",
     "text": [
      " file read succesfully \n"
     ]
    },
    {
     "data": {
      "text/plain": [
       "19858"
      ]
     },
     "execution_count": 1,
     "metadata": {},
     "output_type": "execute_result"
    }
   ],
   "source": [
    "# 1. you have to open a file in correct mode before you write or read to file\n",
    "fileName='Training_01.txt'\n",
    "accessMode='r'\n",
    "file1=open(fileName,accessMode)\n",
    "# 2. perforing a read operation\n",
    "line1=file1.read()\n",
    "# line2=file1.readline()\n",
    "# 3.closing a file is equally important\n",
    "file1.close()\n",
    "# 4.printing a success or operation confirmation message is equally important\n",
    "print(\" file read succesfully \")\n",
    "\n",
    "# split the name \n",
    "tt=line1.split()\n",
    "\n",
    "len(tt)"
   ]
  },
  {
   "cell_type": "markdown",
   "metadata": {},
   "source": [
    "Instead of using the .txt file from above (or instead of, if you want the challenge), take this .txt file, and count how many of each “category” of each image there are. This text file is actually a list of files corresponding to the SUN database scene recognition database, and lists the file directory hierarchy for the images. Once you take a look at the first line or two of the file, it will be clear which part represents the scene category. To do this, you’re going to have to remember a bit about string parsing in Python 3. I talked a little bit about it in this post."
   ]
  },
  {
   "cell_type": "code",
   "execution_count": 2,
   "metadata": {},
   "outputs": [
    {
     "ename": "KeyError",
     "evalue": "'/a/abbey/sun_aqswjsnjlrfzzhiz.jpg\\n'",
     "output_type": "error",
     "traceback": [
      "\u001b[1;31m---------------------------------------------------------------------------\u001b[0m",
      "\u001b[1;31mKeyError\u001b[0m                                  Traceback (most recent call last)",
      "\u001b[1;32m<ipython-input-2-8768dc97099a>\u001b[0m in \u001b[0;36m<module>\u001b[1;34m()\u001b[0m\n\u001b[0;32m     12\u001b[0m \u001b[1;32mwhile\u001b[0m \u001b[1;33m(\u001b[0m\u001b[0mline1\u001b[0m\u001b[1;33m)\u001b[0m\u001b[1;33m:\u001b[0m\u001b[1;33m\u001b[0m\u001b[0m\n\u001b[0;32m     13\u001b[0m     \u001b[0mline1\u001b[0m\u001b[1;33m=\u001b[0m\u001b[0mfile1\u001b[0m\u001b[1;33m.\u001b[0m\u001b[0mreadline\u001b[0m\u001b[1;33m(\u001b[0m\u001b[1;33m)\u001b[0m\u001b[1;33m\u001b[0m\u001b[0m\n\u001b[1;32m---> 14\u001b[1;33m     \u001b[0mtest\u001b[0m\u001b[1;33m[\u001b[0m\u001b[0mline1\u001b[0m\u001b[1;33m]\u001b[0m\u001b[1;33m+=\u001b[0m\u001b[1;36m1\u001b[0m\u001b[1;33m\u001b[0m\u001b[0m\n\u001b[0m\u001b[0;32m     15\u001b[0m     \u001b[0mcount\u001b[0m\u001b[1;33m+=\u001b[0m\u001b[1;36m1\u001b[0m\u001b[1;33m\u001b[0m\u001b[0m\n\u001b[0;32m     16\u001b[0m     \u001b[1;32mif\u001b[0m \u001b[0mline1\u001b[0m\u001b[1;33m[\u001b[0m\u001b[1;36m3\u001b[0m\u001b[1;33m:\u001b[0m\u001b[1;33m-\u001b[0m\u001b[1;36m26\u001b[0m\u001b[1;33m]\u001b[0m\u001b[1;32min\u001b[0m \u001b[0mtest\u001b[0m\u001b[1;33m:\u001b[0m\u001b[1;33m\u001b[0m\u001b[0m\n",
      "\u001b[1;31mKeyError\u001b[0m: '/a/abbey/sun_aqswjsnjlrfzzhiz.jpg\\n'"
     ]
    }
   ],
   "source": [
    "# cheking aut answere\n",
    "\n",
    "# 1. you have to open a file in correct mode before you write or read to file\n",
    "fileName='Training_01.txt'\n",
    "accessMode='r'\n",
    "file1=open(fileName,accessMode)\n",
    "# 2. perforing a read operation\n",
    "line1=True\n",
    "cat_count=0\n",
    "e_count=0 \n",
    "test={}\n",
    "while (line1):\n",
    "    line1=file1.readline()\n",
    "    test[line1]+=1\n",
    "    count+=1   \n",
    "    if line1[3:-26]in test:\n",
    "        e_count+=1\n",
    "    else:\n",
    "        test+=line1\n",
    "        cat_count+=1\n",
    "# line2=file1.readline()\n",
    "# 3.closing a file is equally important\n",
    "file1.close()\n",
    "# 4.printing a success or operation confirmation message is equally important\n",
    "print(\" file read succesfully \")\n",
    "print(cat_count,cat_count)"
   ]
  },
  {
   "cell_type": "code",
   "execution_count": null,
   "metadata": {},
   "outputs": [],
   "source": []
  },
  {
   "cell_type": "code",
   "execution_count": 52,
   "metadata": {},
   "outputs": [
    {
     "ename": "IndexError",
     "evalue": "list index out of range",
     "output_type": "error",
     "traceback": [
      "\u001b[1;31m---------------------------------------------------------------------------\u001b[0m",
      "\u001b[1;31mIndexError\u001b[0m                                Traceback (most recent call last)",
      "\u001b[1;32m<ipython-input-52-7a8c0063aef3>\u001b[0m in \u001b[0;36m<module>\u001b[1;34m()\u001b[0m\n\u001b[0;32m     22\u001b[0m         \u001b[0mline2\u001b[0m\u001b[1;33m=\u001b[0m\u001b[0mfile1\u001b[0m\u001b[1;33m.\u001b[0m\u001b[0mreadline\u001b[0m\u001b[1;33m(\u001b[0m\u001b[1;33m)\u001b[0m\u001b[1;33m\u001b[0m\u001b[0m\n\u001b[0;32m     23\u001b[0m         \u001b[1;32mif\u001b[0m \u001b[1;33m(\u001b[0m\u001b[0mcat_list\u001b[0m\u001b[1;33m[\u001b[0m\u001b[0mi\u001b[0m\u001b[1;33m]\u001b[0m\u001b[1;33m==\u001b[0m\u001b[0mline2\u001b[0m\u001b[1;33m[\u001b[0m\u001b[1;36m3\u001b[0m\u001b[1;33m:\u001b[0m\u001b[1;33m-\u001b[0m\u001b[1;36m26\u001b[0m\u001b[1;33m]\u001b[0m\u001b[1;33m)\u001b[0m\u001b[1;33m:\u001b[0m\u001b[1;33m\u001b[0m\u001b[0m\n\u001b[1;32m---> 24\u001b[1;33m             \u001b[0mele_list\u001b[0m\u001b[1;33m[\u001b[0m\u001b[0mi\u001b[0m\u001b[1;33m]\u001b[0m\u001b[1;33m.\u001b[0m\u001b[0mappend\u001b[0m\u001b[1;33m(\u001b[0m\u001b[0mline2\u001b[0m\u001b[1;33m[\u001b[0m\u001b[1;36m3\u001b[0m\u001b[1;33m:\u001b[0m\u001b[1;33m-\u001b[0m\u001b[1;36m4\u001b[0m\u001b[1;33m]\u001b[0m\u001b[1;33m)\u001b[0m\u001b[1;33m\u001b[0m\u001b[0m\n\u001b[0m\u001b[0;32m     25\u001b[0m \u001b[1;33m\u001b[0m\u001b[0m\n\u001b[0;32m     26\u001b[0m \u001b[1;31m#         if cat not in cat_list:\u001b[0m\u001b[1;33m\u001b[0m\u001b[1;33m\u001b[0m\u001b[0m\n",
      "\u001b[1;31mIndexError\u001b[0m: list index out of range"
     ]
    }
   ],
   "source": [
    "# 1. you have to open a file in correct mode before you write or read to file\n",
    "fileName='Training_01.txt'\n",
    "accessMode='r'\n",
    "file1=open(fileName,accessMode)\n",
    "# 2. perforing a read operation\n",
    "line1=True\n",
    "cat_list=[]\n",
    "ll_cat=[]\n",
    "ele_list=[]\n",
    "while(line1):\n",
    "    line1=file1.readline()\n",
    "    cat=line1[3:-26]\n",
    "#     print(cat)\n",
    "    if cat not in cat_list:\n",
    "        cat_list.append(cat)\n",
    "\n",
    "\n",
    "for i in range(1,len(cat_list)):\n",
    "    line2=True\n",
    "#     line1=file1.readline()\n",
    "    while(line2):\n",
    "        line2=file1.readline()\n",
    "        if (cat_list[i]==line2[3:-26]):\n",
    "            ele_list[i].append(line2[3:-4])\n",
    "    \n",
    "#         if cat not in cat_list:\n",
    "#             cat_list.append(cat)\n",
    "#         ll_cat[i].append(ele)\n",
    "    \n",
    "    \n",
    "# line2=file1.readline()\n",
    "# 3.closing a file is equally important\n",
    "file1.close()\n",
    "# 4.printing a success or operation confirmation message is equally important\n",
    "print(\" file read succesfully \")\n",
    "print(cat_list)\n",
    "# split the name \n",
    "len(cat_list)  \n",
    "ll_cat"
   ]
  },
  {
   "cell_type": "code",
   "execution_count": 37,
   "metadata": {},
   "outputs": [
    {
     "data": {
      "text/plain": [
       "[]"
      ]
     },
     "execution_count": 37,
     "metadata": {},
     "output_type": "execute_result"
    }
   ],
   "source": [
    " ele_list\n",
    "    "
   ]
  },
  {
   "cell_type": "code",
   "execution_count": 45,
   "metadata": {},
   "outputs": [
    {
     "data": {
      "text/plain": [
       "'airplane_cabin'"
      ]
     },
     "execution_count": 45,
     "metadata": {},
     "output_type": "execute_result"
    }
   ],
   "source": [
    "cat_list[1]"
   ]
  },
  {
   "cell_type": "code",
   "execution_count": null,
   "metadata": {},
   "outputs": [],
   "source": []
  }
 ],
 "metadata": {
  "kernelspec": {
   "display_name": "Python 3",
   "language": "python",
   "name": "python3"
  },
  "language_info": {
   "codemirror_mode": {
    "name": "ipython",
    "version": 3
   },
   "file_extension": ".py",
   "mimetype": "text/x-python",
   "name": "python",
   "nbconvert_exporter": "python",
   "pygments_lexer": "ipython3",
   "version": "3.6.5"
  }
 },
 "nbformat": 4,
 "nbformat_minor": 2
}

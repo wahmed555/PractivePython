{
 "cells": [
  {
   "cell_type": "markdown",
   "metadata": {},
   "source": [
    "p_task27b\n",
    "\n",
    "\n",
    "Tic Tac Toe Draw\n",
    "\n",
    "When a player (say player 1, who is X) wants to place an X on the screen, they can’t just click on a terminal. So we are going to approximate this clicking simply by asking the user for a coordinate of where they want to place their piece.\n",
    "\n",
    "As a reminder, our tic tac toe game is really a list of lists. The game starts out with an empty game board like this:"
   ]
  },
  {
   "cell_type": "code",
   "execution_count": 1,
   "metadata": {},
   "outputs": [],
   "source": [
    "game=[[0,0,0],\n",
    "      [0,0,0],\n",
    "      [0,0,0]]"
   ]
  },
  {
   "cell_type": "code",
   "execution_count": 2,
   "metadata": {},
   "outputs": [
    {
     "data": {
      "text/plain": [
       "[[0, 0, 0], [0, 0, 0], [0, 0, 0]]"
      ]
     },
     "execution_count": 2,
     "metadata": {},
     "output_type": "execute_result"
    }
   ],
   "source": [
    "game"
   ]
  },
  {
   "cell_type": "code",
   "execution_count": 23,
   "metadata": {},
   "outputs": [
    {
     "name": "stdout",
     "output_type": "stream",
     "text": [
      "Player1 input location for 'o' 0,0\n",
      "[['o', 0, 0], [0, 0, 0], [0, 0, 0]]\n",
      "Player1 input location for 'x' 0,1\n",
      "[['o', 'X', 0], [0, 0, 0], [0, 0, 0]]\n",
      "Player1 input location for 'o' 0,2\n",
      "[['o', 'X', 'o'], [0, 0, 0], [0, 0, 0]]\n",
      "Player1 input location for 'x' 1,1\n",
      "[['o', 'X', 'o'], [0, 'X', 0], [0, 0, 0]]\n",
      "Player1 input location for 'o' 1,0\n",
      "[['o', 'X', 'o'], ['o', 'X', 0], [0, 0, 0]]\n",
      "Player1 input location for 'x' 2,1\n",
      "[['o', 'X', 'o'], ['o', 'X', 0], [0, 'X', 0]]\n",
      "player X wins in colum / vertical.\n",
      "Player1 input location for 'o' 2,2\n",
      "[['o', 'X', 'o'], ['o', 'X', 0], [0, 'X', 'o']]\n",
      "Player1 input location for 'x' 2,1\n",
      "Location alread in use\n",
      "player X wins in colum / vertical.\n"
     ]
    }
   ],
   "source": [
    "game=[[0,0,0],\n",
    "      [0,0,0],\n",
    "      [0,0,0]]\n",
    "a1=[]\n",
    "hist=[]\n",
    "for i in range(1,5):\n",
    "    \n",
    "    a1=input(\"Player1 input location for 'o' \")\n",
    "    if a1 not in hist:\n",
    "        hist.append(a1)\n",
    "        z=a1.split(',')\n",
    "        ax=z[0]\n",
    "        ay=z[1]\n",
    "        game[int(ax)][int(ay)]='o'\n",
    "        print(game)\n",
    "    else:\n",
    "        print(\"Location alread in use\")\n",
    "    b1=input(\"Player1 input location for 'x' \")\n",
    "    if b1 not in hist:\n",
    "        hist.append(b1)\n",
    "        z=b1.split(',')\n",
    "        bx=z[0]\n",
    "        by=z[1]\n",
    "        game[int(bx)][int(by)]='X'\n",
    "        print(game)\n",
    "    else:\n",
    "        print(\"Location alread in use\")\n",
    "    \n",
    "    if i >=3:\n",
    "        Check_Tic_Tac_Toe()"
   ]
  },
  {
   "cell_type": "code",
   "execution_count": 12,
   "metadata": {},
   "outputs": [
    {
     "data": {
      "text/plain": [
       "[['o', 'o', 'X'], ['o', 'X', 0], ['X', 'X', 'o']]"
      ]
     },
     "execution_count": 12,
     "metadata": {},
     "output_type": "execute_result"
    }
   ],
   "source": [
    "game"
   ]
  },
  {
   "cell_type": "code",
   "execution_count": 13,
   "metadata": {},
   "outputs": [],
   "source": [
    "matrix=game[:][:]\n"
   ]
  },
  {
   "cell_type": "code",
   "execution_count": 14,
   "metadata": {},
   "outputs": [
    {
     "data": {
      "text/plain": [
       "[['o', 'o', 'X'], ['o', 'X', 0], ['X', 'X', 'o']]"
      ]
     },
     "execution_count": 14,
     "metadata": {},
     "output_type": "execute_result"
    }
   ],
   "source": [
    "matrix\n"
   ]
  },
  {
   "cell_type": "code",
   "execution_count": null,
   "metadata": {},
   "outputs": [],
   "source": []
  },
  {
   "cell_type": "code",
   "execution_count": 20,
   "metadata": {},
   "outputs": [],
   "source": [
    "def horizontalRow():\n",
    "    for i in range(0,3):\n",
    "        if game[i][0]==game[i][1]==game[i][2] and game[i][0]!=0:\n",
    "            flagRow=True\n",
    "            print(\"player \" + str(game[i][0])  + \" wins in row/ horizontal.\")\n",
    "        else:\n",
    "            pass\n",
    "#             print(\"No horizontal matchin in row %d\" %i)\n",
    "def verticalRow():\n",
    "    for i in range(0,3):\n",
    "        if game[0][i]==game[1][i]==game[2][i] and game[i][0]!=0:\n",
    "            flagColumn=True\n",
    "            print(\"player \" + str(game[0][i])  + \" wins in colum / vertical.\")\n",
    "        else:\n",
    "            pass\n",
    "#             print(\"No vertical matching in row %d\" %i)\n",
    "\n",
    "def Diagnol():\n",
    "    if game[0][0]==game[1][1]==game[2][2] and game[1][1]!=0:\n",
    "        flagDiagnol1=True\n",
    "        print(\"player \" +  str(game[0][0]) + \" wins diagnol left. \")\n",
    "    elif game[0][2]==game[1][1]==game[2][0] and game[1][1]!=0:\n",
    "        flagDiagnol2=True\n",
    "        print(\"player \" + str(game[0][2]) + \" wins diagnol right. \")\n",
    "    else:\n",
    "        pass\n",
    "#         print(\"No Diagnol matching in row \")\n"
   ]
  },
  {
   "cell_type": "code",
   "execution_count": 21,
   "metadata": {},
   "outputs": [],
   "source": [
    "def Check_Tic_Tac_Toe():\n",
    "    flagColumn=False\n",
    "    flagRow=False\n",
    "    flagDiagnol1=False\n",
    "    flagDiagnol2=False\n",
    "    horizontalRow()\n",
    "    verticalRow()\n",
    "    Diagnol()\n",
    "    if flagRow!=False or flagColumn!=False or flagDiagnol1!=False or flagDiagnol2!=False:\n",
    "        print(\"No win\")"
   ]
  },
  {
   "cell_type": "code",
   "execution_count": 22,
   "metadata": {},
   "outputs": [
    {
     "name": "stdout",
     "output_type": "stream",
     "text": [
      "player X wins diagnol right. \n"
     ]
    }
   ],
   "source": [
    "Check_Tic_Tac_Toe()"
   ]
  },
  {
   "cell_type": "code",
   "execution_count": null,
   "metadata": {},
   "outputs": [],
   "source": []
  }
 ],
 "metadata": {
  "kernelspec": {
   "display_name": "Python 3",
   "language": "python",
   "name": "python3"
  },
  "language_info": {
   "codemirror_mode": {
    "name": "ipython",
    "version": 3
   },
   "file_extension": ".py",
   "mimetype": "text/x-python",
   "name": "python",
   "nbconvert_exporter": "python",
   "pygments_lexer": "ipython3",
   "version": "3.6.5"
  }
 },
 "nbformat": 4,
 "nbformat_minor": 2
}

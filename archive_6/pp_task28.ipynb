{
 "cells": [
  {
   "cell_type": "markdown",
   "metadata": {},
   "source": [
    "Max Of Three\n",
    "\n",
    "Exercise 28 (and Solution)\n",
    "\n",
    "Implement a function that takes as input three variables, and returns the largest of the three. Do this without using the Python max() function!\n",
    "\n",
    "The goal of this exercise is to think about some internals that Python normally takes care of for us. All you need is some variables and if statements!"
   ]
  },
  {
   "cell_type": "code",
   "execution_count": 2,
   "metadata": {},
   "outputs": [
    {
     "name": "stdout",
     "output_type": "stream",
     "text": [
      "Enter the  marks of English100\n",
      "Enter the  marks of sindhi90\n",
      "Enter the  marks of Urdu80\n"
     ]
    }
   ],
   "source": [
    "A=[]\n",
    "a1=int(input(\"Enter the  marks of English\"))\n",
    "a2=int(input(\"Enter the  marks of sindhi\"))\n",
    "a3=int(input(\"Enter the  marks of Urdu\"))"
   ]
  },
  {
   "cell_type": "code",
   "execution_count": 18,
   "metadata": {},
   "outputs": [],
   "source": [
    "a3=71\n",
    "a2=191\n",
    "a1=5"
   ]
  },
  {
   "cell_type": "code",
   "execution_count": 19,
   "metadata": {},
   "outputs": [
    {
     "name": "stdout",
     "output_type": "stream",
     "text": [
      "greatest 191\n"
     ]
    }
   ],
   "source": [
    "greatest=True\n",
    "while(greatest):\n",
    "    greatest=False\n",
    "    if a3 >a2 :\n",
    "        greater=a3\n",
    "        if a3 >a1:\n",
    "            greatest=a3\n",
    "            break\n",
    "\n",
    "        else:\n",
    "            greater=a1\n",
    "    elif a2>a1:\n",
    "        greater=a2\n",
    "        if a2 > a3:\n",
    "            greatest=a2\n",
    "            break\n",
    "        else:\n",
    "            greater=a3\n",
    "\n",
    "    elif a1>a3:\n",
    "        greater=a1\n",
    "        if a1>a2:\n",
    "            greatest=a1\n",
    "            break\n",
    "        else:\n",
    "            greater=a2\n",
    "\n",
    "# print(\"greater\",greater)\n",
    "print(\"greatest\",greatest)"
   ]
  },
  {
   "cell_type": "code",
   "execution_count": null,
   "metadata": {},
   "outputs": [],
   "source": []
  }
 ],
 "metadata": {
  "kernelspec": {
   "display_name": "Python 3",
   "language": "python",
   "name": "python3"
  },
  "language_info": {
   "codemirror_mode": {
    "name": "ipython",
    "version": 3
   },
   "file_extension": ".py",
   "mimetype": "text/x-python",
   "name": "python",
   "nbconvert_exporter": "python",
   "pygments_lexer": "ipython3",
   "version": "3.6.5"
  }
 },
 "nbformat": 4,
 "nbformat_minor": 2
}

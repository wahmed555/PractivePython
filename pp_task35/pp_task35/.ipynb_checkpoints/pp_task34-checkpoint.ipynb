{
 "cells": [
  {
   "cell_type": "markdown",
   "metadata": {},
   "source": [
    "Birthday Json\n",
    "\n",
    "Exercise 34 (and Solution)\n",
    "\n",
    "This exercise is Part 2 of 4 of the birthday data exercise series. The other exercises are: Part 1,\n",
    "Part 3, and Part 4.\n",
    "In the previous exercise we created a dictionary of famous scientists’ birthdays. In this\n",
    "exercise, modify your program from Part 1 to load the birthday dictionary from a JSON\n",
    "file on disk, rather than having the dictionary defined in the program.\n",
    "\n",
    "Bonus: Ask the user for another scientist’s name and birthday to add to the dictionary,\n",
    "and update the JSON file you have on disk with the scientist’s name. \n",
    "\n",
    "If you run the program multiple times and keep adding new names, your JSON file should keep\n",
    "getting bigger and bigger."
   ]
  },
  {
   "cell_type": "code",
   "execution_count": null,
   "metadata": {},
   "outputs": [],
   "source": [
    "# writing and saving a dictionary in  JSON file\n",
    "\n",
    "import json\n",
    "\n",
    "# Dictionary \n",
    "bdays={\"Rahim\":\"12-05-1985\",\n",
    "        \"Qari\":\"30-02-1992\",\n",
    "        \"hamza\":\"18-11-1997\"}\n",
    "\n",
    "\n",
    "# Saving a dictionary as  JSON FILE\n",
    "with open(\"bday.json\",\"w\") as f_obj:\n",
    "    json.dump(bdays,f_obj)"
   ]
  },
  {
   "cell_type": "code",
   "execution_count": null,
   "metadata": {},
   "outputs": [],
   "source": [
    "import json\n",
    "# Reading a JSON file as dictionary and reading \n",
    "\n",
    "print(\"Welcome to the birthday dictionary.\")\n",
    "with open(\"bdayb.json\",\"r+\") as f_obj2:\n",
    "        d=json.load(f_obj2)\n",
    "selection=True\n",
    "while (selection!='q'):\n",
    "    selection=input(\"Press 'r' to  search and 'a' to add new record. \\n 'q to quit .'\"  )  \n",
    "\n",
    "    if selection=='r':\n",
    "\n",
    "        print(\"We know the birthdays of:\")\n",
    "        # for[print(i): i in bdays.keys()]\n",
    "        for i in d.keys():\n",
    "            print(i)\n",
    "        search=input(\"whose birday you are looking for ?\")\n",
    "        Date4rmDict=d[search]\n",
    "        print(\"\\n\" + search+ \" birthday is \"+Date4rmDict)  \n",
    "\n",
    "    elif selection=='a':\n",
    "        key1=input(\"Enter the name of friend \")\n",
    "        value1=input(\"Enter the birth date of \")\n",
    "        d[key1]=value1\n",
    "        d.keys()\n",
    "\n",
    "        with open(\"bdayb.json\",\"w\") as f_obj3:\n",
    "            json.dump(d,f_obj3) \n",
    "        print(\"JSON file saved and updated.\")"
   ]
  },
  {
   "cell_type": "code",
   "execution_count": null,
   "metadata": {},
   "outputs": [],
   "source": []
  },
  {
   "cell_type": "markdown",
   "metadata": {},
   "source": [
    "Practice1"
   ]
  },
  {
   "cell_type": "code",
   "execution_count": 2,
   "metadata": {},
   "outputs": [],
   "source": [
    "f={\n",
    "\"name\": \"Michele\",\n",
    "\"shirt_color\": \"blue\",\n",
    "\"laptops\": [\n",
    "{\n",
    "\"brand\": \"Lenovo\",\n",
    "\"operating_system\": \"Ubuntu\"\n",
    "},\n",
    "{\n",
    "\"brand\": \"Apple\",\n",
    "\"operating_system\": \"OSX\"\n",
    "}\n",
    "],\n",
    "\"has_a_dog\": False,\n",
    "\"items_on_desk\": [\"mug\", \"pen\", \"monitor\"]\n",
    "}\n"
   ]
  },
  {
   "cell_type": "code",
   "execution_count": 3,
   "metadata": {},
   "outputs": [
    {
     "data": {
      "text/plain": [
       "{'name': 'Michele',\n",
       " 'shirt_color': 'blue',\n",
       " 'laptops': [{'brand': 'Lenovo', 'operating_system': 'Ubuntu'},\n",
       "  {'brand': 'Apple', 'operating_system': 'OSX'}],\n",
       " 'has_a_dog': False,\n",
       " 'items_on_desk': ['mug', 'pen', 'monitor']}"
      ]
     },
     "execution_count": 3,
     "metadata": {},
     "output_type": "execute_result"
    }
   ],
   "source": [
    "f"
   ]
  },
  {
   "cell_type": "code",
   "execution_count": 4,
   "metadata": {},
   "outputs": [],
   "source": [
    "import json\n",
    "with open(\"bio.json\",\"w\") as f_obj:\n",
    "    json.dump(f,f_obj) "
   ]
  },
  {
   "cell_type": "markdown",
   "metadata": {},
   "source": [
    "Practice 2"
   ]
  },
  {
   "cell_type": "code",
   "execution_count": 5,
   "metadata": {},
   "outputs": [],
   "source": [
    "g={\"name\":\"Micheal\",\n",
    "  \"has_dog\":False }\n",
    "with open(\"practice2.json\",\"w\") as g_obj:\n",
    "    json.dump(g,g_obj)\n",
    "    "
   ]
  },
  {
   "cell_type": "code",
   "execution_count": 14,
   "metadata": {},
   "outputs": [
    {
     "name": "stdout",
     "output_type": "stream",
     "text": [
      "Micheal do not have a dog\n"
     ]
    }
   ],
   "source": [
    "with open(\"practice2.json\",\"r\") as h_obj:\n",
    "    h=json.load(h_obj)\n",
    "h\n",
    "\n",
    "if  h[\"has_dog\"]==True:\n",
    "    print( \"{} has a dog\" .format(h[\"name\"]) )\n",
    "else:    \n",
    "    print( \"{} do not have a dog\" .format(h[\"name\"]) )"
   ]
  },
  {
   "cell_type": "code",
   "execution_count": null,
   "metadata": {},
   "outputs": [],
   "source": []
  }
 ],
 "metadata": {
  "kernelspec": {
   "display_name": "Python 3",
   "language": "python",
   "name": "python3"
  },
  "language_info": {
   "codemirror_mode": {
    "name": "ipython",
    "version": 3
   },
   "file_extension": ".py",
   "mimetype": "text/x-python",
   "name": "python",
   "nbconvert_exporter": "python",
   "pygments_lexer": "ipython3",
   "version": "3.6.5"
  }
 },
 "nbformat": 4,
 "nbformat_minor": 2
}

{
 "cells": [
  {
   "cell_type": "markdown",
   "metadata": {},
   "source": [
    "Birthday Json\n",
    "\n",
    "Exercise 35 (and Solution)\n",
    "\n",
    "This exercise is Part 3 of 4 of the birthday data exercise series. The other exercises are: Part 1,\n",
    "Part 2, and Part 4.\n",
    "\n",
    "In the previous exercise we saved information about famous scientists’ names and\n",
    "birthdays to disk.\n",
    "\n",
    "In this exercise, load that JSON file from disk, extract the months of all\n",
    "the birthdays, and count how many scientists have a birthday in each month.\n",
    "Your program should output something like:\n",
    "\n",
    "\n",
    "{\n",
    "\"May\": 3,\n",
    "\"November\": 2,\n",
    "\"December\": 1\n",
    "}"
   ]
  },
  {
   "cell_type": "code",
   "execution_count": null,
   "metadata": {},
   "outputs": [],
   "source": [
    "import json\n",
    "# Reading a JSON file as dictionary and reading \n",
    "num_to_string = {\n",
    "1: \"January\",\n",
    "2: \"February\",\n",
    "3: \"March\",\n",
    "4: \"April\",\n",
    "5: \"May\",\n",
    "6: \"June\",\n",
    "7: \"July\",\n",
    "8: \"August\",\n",
    "9: \"September\",\n",
    "10: \"October\",\n",
    "11: \"November\",\n",
    "12: \"December\"\n",
    "}\n",
    "\n",
    "import json\n",
    "# Reading a JSON file as dictionary and reading \n",
    "from collections import Counter\n",
    "\n",
    "\n",
    "print(\"Welcome to the birthday dictionary.\")\n",
    "with open(\"bdayb.json\",\"r+\") as f_obj2:\n",
    "        d=json.load(f_obj2)\n",
    "selection=True\n",
    "while (selection!='q'):\n",
    "    selection=input(\"Press 'r' to  search and 'a' to add new record. \\n 'q to quit .'\"  )  \n",
    "    if selection=='q':\n",
    "        break\n",
    "    print(\"We know the birthdays of:\")\n",
    "    # for[print(i): i in bdays.keys()]\n",
    "    l1=[]\n",
    "    for k,v in d.items():\n",
    "        print(k)\n",
    "        print(v)\n",
    "        l1.append(v[3:-5])\n",
    "    print(l1)\n",
    "    \n",
    "    l2=[]\n",
    "    for e in l1:\n",
    "        for k,v in num_to_string.items():\n",
    "            if int(e)==k:\n",
    "#                 print(e)\n",
    "                l2.append(v)\n",
    "    print(l2)     \n",
    "#         if l1==num_to_string.keys():\n",
    "#             l2.append(v)\n",
    "    \n",
    "      \n",
    "    \n",
    "    c = Counter(l2)\n",
    "    print(c)\n",
    "    print(type(c))"
   ]
  },
  {
   "cell_type": "code",
   "execution_count": null,
   "metadata": {},
   "outputs": [],
   "source": []
  },
  {
   "cell_type": "code",
   "execution_count": 2,
   "metadata": {},
   "outputs": [
    {
     "name": "stdout",
     "output_type": "stream",
     "text": [
      "Welcome to the birthday dictionary.\n",
      "Press 'r' to  search and 'a' to add new record. \n",
      " 'q to quit .'r\n",
      "We know the birthdays of:\n",
      "Garu\n",
      "30-02-2002\n",
      "Rahim\n",
      "12-05-1985\n",
      "Qari\n",
      "30-02-1992\n",
      "hamza\n",
      "18-11-1997\n",
      "chucha\n",
      "18-11-2017\n",
      "Haris\n",
      "12-04-2006\n",
      "['02', '05', '02', '11', '11', '04']\n",
      "['February', 'May', 'February', 'November', 'November', 'April']\n",
      "Counter({'February': 2, 'November': 2, 'May': 1, 'April': 1})\n",
      "<class 'collections.Counter'>\n",
      "Press 'r' to  search and 'a' to add new record. \n",
      " 'q to quit .'q\n"
     ]
    }
   ],
   "source": [
    "num_to_string = {\n",
    "1: \"January\",\n",
    "2: \"February\",\n",
    "3: \"March\",\n",
    "4: \"April\",\n",
    "5: \"May\",\n",
    "6: \"June\",\n",
    "7: \"July\",\n",
    "8: \"August\",\n",
    "9: \"September\",\n",
    "10: \"October\",\n",
    "11: \"November\",\n",
    "12: \"December\"\n",
    "}\n",
    "\n",
    "import json\n",
    "# Reading a JSON file as dictionary and reading \n",
    "from collections import Counter\n",
    "\n",
    "\n",
    "print(\"Welcome to the birthday dictionary.\")\n",
    "with open(\"bdayb.json\",\"r+\") as f_obj2:\n",
    "        d=json.load(f_obj2)\n",
    "selection=True\n",
    "while (selection!='q'):\n",
    "    selection=input(\"Press 'r' to  search and 'a' to add new record. \\n 'q to quit .'\"  )  \n",
    "    if selection=='q':\n",
    "        break\n",
    "    print(\"We know the birthdays of:\")\n",
    "    # for[print(i): i in bdays.keys()]\n",
    "    l1=[]\n",
    "    for k,v in d.items():\n",
    "        print(k)\n",
    "        print(v)\n",
    "        l1.append(v[3:-5])\n",
    "    print(l1)\n",
    "    \n",
    "    l2=[]\n",
    "    for e in l1:\n",
    "        for k,v in num_to_string.items():\n",
    "            if int(e)==k:\n",
    "#                 print(e)\n",
    "                l2.append(v)\n",
    "    print(l2)     \n",
    "#         if l1==num_to_string.keys():\n",
    "#             l2.append(v)\n",
    "    \n",
    "      \n",
    "    \n",
    "    c = Counter(l2)\n",
    "    print(c)\n",
    "    print(type(c))"
   ]
  },
  {
   "cell_type": "code",
   "execution_count": null,
   "metadata": {},
   "outputs": [],
   "source": []
  },
  {
   "cell_type": "code",
   "execution_count": null,
   "metadata": {},
   "outputs": [],
   "source": []
  },
  {
   "cell_type": "code",
   "execution_count": null,
   "metadata": {},
   "outputs": [],
   "source": [
    "# writing and saving a dictionary in  JSON file\n",
    "\n",
    "import json\n",
    "\n",
    "# Dictionary \n",
    "bdays={\"Rahim\":\"12-05-1985\",\n",
    "        \"Qari\":\"30-02-1992\",\n",
    "        \"hamza\":\"18-11-1997\"}\n",
    "\n",
    "\n",
    "# Saving a dictionary as  JSON FILE\n",
    "with open(\"bday.json\",\"w\") as f_obj:\n",
    "    json.dump(bdays,f_obj)"
   ]
  },
  {
   "cell_type": "code",
   "execution_count": null,
   "metadata": {},
   "outputs": [],
   "source": [
    "import json\n",
    "# Reading a JSON file as dictionary and reading \n",
    "\n",
    "print(\"Welcome to the birthday dictionary.\")\n",
    "with open(\"bdayb.json\",\"r+\") as f_obj2:\n",
    "        d=json.load(f_obj2)\n",
    "selection=True\n",
    "while (selection!='q'):\n",
    "    selection=input(\"Press 'r' to  search and 'a' to add new record. \\n 'q to quit .'\"  )  \n",
    "\n",
    "    if selection=='r':\n",
    "\n",
    "        print(\"We know the birthdays of:\")\n",
    "        # for[print(i): i in bdays.keys()]\n",
    "        for i in d.keys():\n",
    "            print(i)\n",
    "        search=input(\"whose birday you are looking for ?\")\n",
    "        Date4rmDict=d[search]\n",
    "        print(\"\\n\" + search+ \" birthday is \"+Date4rmDict)  \n",
    "\n",
    "    elif selection=='a':\n",
    "        key1=input(\"Enter the name of friend \")\n",
    "        value1=input(\"Enter the birth date of \")\n",
    "        d[key1]=value1\n",
    "        d.keys()\n",
    "\n",
    "        with open(\"bdayb.json\",\"w\") as f_obj3:\n",
    "            json.dump(d,f_obj3) \n",
    "        print(\"JSON file saved and updated.\")"
   ]
  },
  {
   "cell_type": "code",
   "execution_count": null,
   "metadata": {},
   "outputs": [],
   "source": []
  },
  {
   "cell_type": "markdown",
   "metadata": {},
   "source": [
    "Practice1"
   ]
  },
  {
   "cell_type": "code",
   "execution_count": null,
   "metadata": {},
   "outputs": [],
   "source": [
    "f={\n",
    "\"name\": \"Michele\",\n",
    "\"shirt_color\": \"blue\",\n",
    "\"laptops\": [\n",
    "{\n",
    "\"brand\": \"Lenovo\",\n",
    "\"operating_system\": \"Ubuntu\"\n",
    "},\n",
    "{\n",
    "\"brand\": \"Apple\",\n",
    "\"operating_system\": \"OSX\"\n",
    "}\n",
    "],\n",
    "\"has_a_dog\": False,\n",
    "\"items_on_desk\": [\"mug\", \"pen\", \"monitor\"]\n",
    "}\n"
   ]
  },
  {
   "cell_type": "code",
   "execution_count": null,
   "metadata": {},
   "outputs": [],
   "source": [
    "f"
   ]
  },
  {
   "cell_type": "code",
   "execution_count": null,
   "metadata": {},
   "outputs": [],
   "source": [
    "import json\n",
    "with open(\"bio.json\",\"w\") as f_obj:\n",
    "    json.dump(f,f_obj) "
   ]
  },
  {
   "cell_type": "markdown",
   "metadata": {},
   "source": [
    "Practice 2"
   ]
  },
  {
   "cell_type": "code",
   "execution_count": null,
   "metadata": {},
   "outputs": [],
   "source": [
    "g={\"name\":\"Micheal\",\n",
    "  \"has_dog\":False }\n",
    "with open(\"practice2.json\",\"w\") as g_obj:\n",
    "    json.dump(g,g_obj)\n",
    "    "
   ]
  },
  {
   "cell_type": "code",
   "execution_count": null,
   "metadata": {},
   "outputs": [],
   "source": [
    "with open(\"practice2.json\",\"r\") as h_obj:\n",
    "    h=json.load(h_obj)\n",
    "h\n",
    "\n",
    "if  h[\"has_dog\"]==True:\n",
    "    print( \"{} has a dog\" .format(h[\"name\"]) )\n",
    "else:    \n",
    "    print( \"{} do not have a dog\" .format(h[\"name\"]) )"
   ]
  },
  {
   "cell_type": "code",
   "execution_count": null,
   "metadata": {},
   "outputs": [],
   "source": []
  }
 ],
 "metadata": {
  "kernelspec": {
   "display_name": "Python 3",
   "language": "python",
   "name": "python3"
  },
  "language_info": {
   "codemirror_mode": {
    "name": "ipython",
    "version": 3
   },
   "file_extension": ".py",
   "mimetype": "text/x-python",
   "name": "python",
   "nbconvert_exporter": "python",
   "pygments_lexer": "ipython3",
   "version": "3.6.5"
  }
 },
 "nbformat": 4,
 "nbformat_minor": 2
}

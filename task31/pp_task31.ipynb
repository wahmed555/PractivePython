{
 "cells": [
  {
   "cell_type": "code",
   "execution_count": 1,
   "metadata": {},
   "outputs": [
    {
     "name": "stdout",
     "output_type": "stream",
     "text": [
      "Welcome to hangman!!\n",
      "guess letter: t\n",
      "_______T_\n",
      "guess letter: e\n",
      "E______TE\n",
      "guess letter: a\n",
      "E_A___ATE\n",
      "guess letter: o\n",
      "E_A_O_ATE\n",
      "guess letter: p\n",
      "E_APO_ATE\n",
      "guess letter: v\n",
      "EVAPO_ATE\n",
      "guess letter: r\n",
      "You won!!\n"
     ]
    }
   ],
   "source": [
    "#! /usr/bin/python3\n",
    "\n",
    "if __name__ == '__main__':\n",
    "\tprint(\"Welcome to hangman!!\")\n",
    "\tword = \"EVAPORATE\"\n",
    "\tguessed = \"_\" * len(word)\n",
    "\tword = list(word)\n",
    "\tguessed = list(guessed)\n",
    "\tlstGuessed = []\n",
    "\tletter = input(\"guess letter: \")\n",
    "\twhile True:\n",
    "\t\tif letter.upper() in lstGuessed:\n",
    "\t\t\tletter = ''\n",
    "\t\t\tprint(\"Already guessed!!\")\n",
    "\t\telif letter.upper() in word:\n",
    "\t\t\tindex = word.index(letter.upper())\n",
    "\t\t\tguessed[index] = letter.upper()\n",
    "\t\t\tword[index] = '_'\n",
    "\t\telse:\n",
    "\t\t\tprint(''.join(guessed))\n",
    "\t\t\tif letter is not '':\n",
    "\t\t\t\tlstGuessed.append(letter.upper())\n",
    "\t\t\tletter = input(\"guess letter: \")\n",
    "\n",
    "\t\tif '_' not in guessed:\n",
    "\t\t\tprint(\"You won!!\")\n",
    "\t\t\tbreak"
   ]
  },
  {
   "cell_type": "code",
   "execution_count": null,
   "metadata": {
    "collapsed": true
   },
   "outputs": [],
   "source": []
  }
 ],
 "metadata": {
  "kernelspec": {
   "display_name": "Python 3",
   "language": "python",
   "name": "python3"
  },
  "language_info": {
   "codemirror_mode": {
    "name": "ipython",
    "version": 3
   },
   "file_extension": ".py",
   "mimetype": "text/x-python",
   "name": "python",
   "nbconvert_exporter": "python",
   "pygments_lexer": "ipython3",
   "version": "3.6.3"
  }
 },
 "nbformat": 4,
 "nbformat_minor": 2
}

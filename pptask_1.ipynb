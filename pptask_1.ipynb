{
 "cells": [
  {
   "cell_type": "markdown",
   "metadata": {},
   "source": [
    "Create a program that asks the user to enter their name and their age.\n",
    "Print out a message addressed to them that tells them the year that they will turn 100 years old."
   ]
  },
  {
   "cell_type": "code",
   "execution_count": 10,
   "metadata": {},
   "outputs": [
    {
     "name": "stdout",
     "output_type": "stream",
     "text": [
      "Enter the nameemad\n",
      "Enter the age54\n",
      "You will get 100 years old in year 2073\n",
      "2019-01-21\n"
     ]
    }
   ],
   "source": [
    "import datetime\n",
    "name=input(\"Enter the name\")\n",
    "age=int(input(\"Enter the age\"))\n",
    "\n",
    "currentDate=datetime.date.today()\n",
    "difference=100-age\n",
    "print(\"You will get 100 years old in year \" + str(difference+currentDate.year))\n",
    "print(currentDate)"
   ]
  },
  {
   "cell_type": "markdown",
   "metadata": {},
   "source": [
    "EXTRA_1\n",
    "\n",
    "Add on to the previous program by asking the user for another number and printing out that many copies of the previous message.\n",
    "\n",
    "(Hint: order of operations exists in Python)"
   ]
  },
  {
   "cell_type": "code",
   "execution_count": 13,
   "metadata": {},
   "outputs": [
    {
     "name": "stdout",
     "output_type": "stream",
     "text": [
      "Enter the number of times for message to display2\n",
      "Enter the namehumanuy\n",
      "Enter the age65\n",
      "You will get 100 years old in year 2054\n",
      "2019-01-21\n",
      "Done\n",
      "Enter the nameemad\n",
      "Enter the age77\n",
      "You will get 100 years old in year 2042\n",
      "2019-01-21\n",
      "Done\n"
     ]
    }
   ],
   "source": [
    "import datetime\n",
    "k=int(input(\"Enter the number of times for message to display\"))\n",
    "\n",
    "for l in range(k):\n",
    "\n",
    "    name=input(\"Enter the name\")\n",
    "    age=int(input(\"Enter the age\"))\n",
    "\n",
    "    currentDate=datetime.date.today()\n",
    "    difference=100-age\n",
    "    print(\"You will get 100 years old in year \" + str(difference+currentDate.year))\n",
    "    print(currentDate)\n",
    "\n",
    "    print(\"Done\")"
   ]
  },
  {
   "cell_type": "markdown",
   "metadata": {},
   "source": [
    "EXTRA_2\n",
    "\n",
    "Print out that many copies of the previous message on separate lines. \n",
    "\n",
    "(Hint: the string \"\\n is the same as pressing the ENTER button)"
   ]
  },
  {
   "cell_type": "code",
   "execution_count": null,
   "metadata": {},
   "outputs": [],
   "source": []
  }
 ],
 "metadata": {
  "kernelspec": {
   "display_name": "Python 3",
   "language": "python",
   "name": "python3"
  },
  "language_info": {
   "codemirror_mode": {
    "name": "ipython",
    "version": 3
   },
   "file_extension": ".py",
   "mimetype": "text/x-python",
   "name": "python",
   "nbconvert_exporter": "python",
   "pygments_lexer": "ipython3",
   "version": "3.6.5"
  }
 },
 "nbformat": 4,
 "nbformat_minor": 2
}

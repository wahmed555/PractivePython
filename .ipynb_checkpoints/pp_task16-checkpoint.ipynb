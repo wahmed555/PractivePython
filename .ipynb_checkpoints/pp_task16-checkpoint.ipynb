{
 "cells": [
  {
   "cell_type": "markdown",
   "metadata": {},
   "source": [
    "Exercise 16 (and Solution)\n",
    "Write a password generator in Python. Be creative with how you generate passwords - strong passwords have a mix of lowercase letters, uppercase letters, numbers, and symbols. The passwords should be random, generating a new password every time the user asks for a new password. Include your run-time code in a main method.\n",
    "\n",
    "Extra:\n",
    "\n",
    "Ask the user how strong they want their password to be. For weak passwords, pick a word or two from a list."
   ]
  },
  {
   "cell_type": "code",
   "execution_count": 26,
   "metadata": {
    "collapsed": true
   },
   "outputs": [],
   "source": [
    "import string\n",
    "import random\n",
    "\n",
    "\n",
    "def numerial(): # function to generate random number\n",
    "    n1=[]\n",
    "    x1=str(random.randint(0,9))\n",
    "    n1.append(x1)\n",
    "    x2=str(random.randint(0,9))\n",
    "    n1.append(x2)\n",
    "    return n1\n",
    "\n",
    "def alpa_up(): # function to generate random upper character\n",
    "    n1=[]\n",
    "    x1=random.choice(string.ascii_uppercase)\n",
    "    n1.append(x1)\n",
    "    x2=random.choice(string.ascii_uppercase)\n",
    "    n1.append(x2)  \n",
    "    return n1\n",
    "\n",
    "def alpa_low(): # function to generate random upper character\n",
    "    n1=[]\n",
    "    x1=random.choice(string.ascii_lowercase)\n",
    "    n1.append(x1)\n",
    "    x2=random.choice(string.ascii_lowercase)\n",
    "    n1.append(x2)\n",
    "    x3=random.choice(string.ascii_lowercase)\n",
    "    n1.append(x3)\n",
    "    x4=random.choice(string.ascii_lowercase)\n",
    "    n1.append(x4)\n",
    "    return n1\n",
    "\n",
    "def special(): # function to generate random upper character\n",
    "    n1=[]\n",
    "    x1=random.choice(string.punctuation)\n",
    "    n1.append(x1)\n",
    "    return n1\n",
    "z1=special()\n",
    "z2=alpa_low()\n",
    "z3=alpa_up()\n",
    "z4=numerial()\n",
    "\n",
    "def sequence():# function to return a random  sequence \n",
    "    k1=[]\n",
    "#     k=['z1','z2','z3','z4']\n",
    "    k=[z1,z2,z3,z4]\n",
    "    l=random.randint(1,4)\n",
    "    print(l)\n",
    "    m=l-4\n",
    "    print(m)\n",
    "    for i in range(l,4):\n",
    "        k1.append(k[i])\n",
    "    for j in range(l,0,-1):\n",
    "        k1.append(k[j-1])\n",
    "#     print(k1) \n",
    "    return k1"
   ]
  },
  {
   "cell_type": "code",
   "execution_count": 29,
   "metadata": {},
   "outputs": [
    {
     "name": "stdout",
     "output_type": "stream",
     "text": [
      "1\n",
      "-3\n",
      "sequence :  [['u', 'f', 'm', 'j'], ['C', 'V'], ['7', '6'], ['?']]\n",
      "['u', 'f', 'm', 'j']\n",
      "['C', 'V']\n",
      "['7', '6']\n",
      "['?']\n",
      "['u', 'f', 'm', 'j', 'C', 'V', '7', '6', '?']\n",
      "Pasword_ generated:  ufmjCV76?\n"
     ]
    }
   ],
   "source": [
    "z0=sequence()\n",
    "z1=special()\n",
    "z2=alpa_low()\n",
    "z3=alpa_up()\n",
    "z4=numerial()\n",
    "g=[]\n",
    "\n",
    "print(\"sequence : \",z0)\n",
    "for i in z0:\n",
    "    print(i)\n",
    "    g+=i\n",
    "    \n",
    "\n",
    "print(g)\n",
    "h=''.join(g)\n",
    "# h=','.join(g)\n",
    "print(\"Pasword_ generated: \", h)"
   ]
  },
  {
   "cell_type": "code",
   "execution_count": 14,
   "metadata": {
    "collapsed": true
   },
   "outputs": [],
   "source": [
    "string?\n"
   ]
  },
  {
   "cell_type": "code",
   "execution_count": null,
   "metadata": {
    "collapsed": true
   },
   "outputs": [],
   "source": []
  }
 ],
 "metadata": {
  "kernelspec": {
   "display_name": "Python 3",
   "language": "python",
   "name": "python3"
  },
  "language_info": {
   "codemirror_mode": {
    "name": "ipython",
    "version": 3
   },
   "file_extension": ".py",
   "mimetype": "text/x-python",
   "name": "python",
   "nbconvert_exporter": "python",
   "pygments_lexer": "ipython3",
   "version": "3.6.3"
  }
 },
 "nbformat": 4,
 "nbformat_minor": 2
}

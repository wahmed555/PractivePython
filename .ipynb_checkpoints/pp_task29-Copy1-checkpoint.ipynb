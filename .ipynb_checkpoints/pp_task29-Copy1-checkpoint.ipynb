{
 "cells": [
  {
   "cell_type": "markdown",
   "metadata": {},
   "source": [
    "Tic Tac Toe Game\n",
    "\n",
    "Exercise 29 (and Solution)\n",
    "\n",
    "This exercise is Part 4 of 4 of the Tic Tac Toe exercise series. The other exercises are: Part 1, Part\n",
    "2, and Part 3.\n",
    "In 3 previous exercises, we built up a few components needed to build a Tic Tac Toe\n",
    "game in Python:\n",
    "\n",
    "1. Draw the Tic Tac Toe game board\n",
    "2. Checking whether a game board has a winner\n",
    "3. Handle a player move from user input\n",
    "\n",
    "The next step is to put all these three components together to make a two-player Tic Tac\n",
    "Toe game! Your challenge in this exercise is to use the functions from those previous\n",
    "exercises all together in the same program to make a two-player game that you can play\n",
    "with a friend. There are a lot of choices you will have to make when completing this\n",
    "exercise, so you can go as far or as little as you want with it.\n",
    "Here are a few things to keep in mind:\n",
    "You should keep track of who won - if there is a winner, show a congratulatory\n",
    "message on the screen.\n",
    "If there are no more moves left, don’t ask for the next player’s move!\n",
    "As a bonus, you can ask the players if they want to play again and keep a running tally\n",
    "of who won more - Player 1 or Player 2."
   ]
  },
  {
   "cell_type": "code",
   "execution_count": null,
   "metadata": {
    "collapsed": true
   },
   "outputs": [],
   "source": []
  },
  {
   "cell_type": "code",
   "execution_count": 14,
   "metadata": {
    "collapsed": true
   },
   "outputs": [],
   "source": [
    "\n",
    "\n",
    "def horizontalRow():\n",
    "    for i in range(0,3):\n",
    "        if game[i][0]==game[i][1]==game[i][2] and game[i][0]!=0:\n",
    "            flagRow=True\n",
    "            print(\"player \" + str(game[i][0])  + \" wins in row/ horizontal.\")\n",
    "            return flagRow\n",
    "        else:\n",
    "            pass\n",
    "#             print(\"No horizontal matchin in row %d\" %i)\n",
    "    \n",
    "def verticalRow():\n",
    "    for i in range(0,3):\n",
    "        if game[0][i]==game[1][i]==game[2][i] and game[i][0]!=0:\n",
    "            flagColumn=True\n",
    "            \n",
    "            print(\"player \" + str(game[0][i])  + \" wins in colum / vertical.\")\n",
    "            return flagColumn\n",
    "        else:\n",
    "            pass\n",
    "#             print(\"No vertical matching in row %d\" %i)\n",
    "   \n",
    "def Diagnol():\n",
    "    if game[0][0]==game[1][1]==game[2][2] and game[1][1]!=0:\n",
    "        flagDiagnol1=True\n",
    "        print(\"player \" +  str(game[0][0]) + \" wins diagnol left. \")\n",
    "        return flagDiagnol1\n",
    "    elif game[0][2]==game[1][1]==game[2][0] and game[1][1]!=0:\n",
    "        flagDiagnol2=True\n",
    "        print(\"player \" + str(game[0][2]) + \" wins diagnol right. \")\n",
    "        return flagDiagnol2\n",
    "    else:\n",
    "        pass\n",
    "#         print(\"No Diagnol matching in row \")\n",
    "\n",
    "###############################################################################################\n",
    "\n",
    "def Check_Tic_Tac_Toe(game):\n",
    "    flagColumn=False\n",
    "    flagRow=False\n",
    "    flagDiagnol1=False\n",
    "    flagDiagnol2=False\n",
    "\n",
    "    h=horizontalRow()\n",
    "    v=verticalRow()\n",
    "    d=Diagnol()\n",
    "\n",
    "    if h==True or v==True or d==True:\n",
    "        print(\"oo win\")\n",
    "        exit()\n",
    "    else :\n",
    "        print(\"phasori\")\n",
    "########################################################################\n",
    "def placein():\n",
    "    game=[[0,0,0],\n",
    "      [0,0,0],\n",
    "      [0,0,0]]\n",
    "    a1=[]\n",
    "    hist=[]\n",
    "    for i in range(1,5):\n",
    "\n",
    "        a1=input(\"Player1 input location for 'o' \")\n",
    "        if a1 not in hist:\n",
    "            hist.append(a1)\n",
    "            z=a1.split(',')\n",
    "            ax=z[0]\n",
    "            ay=z[1]\n",
    "            game[int(ax)][int(ay)]='o'\n",
    "            print(game)\n",
    "            \n",
    "        else:\n",
    "            print(\"Location alread in use\")\n",
    "        b1=input(\"Player1 input location for 'x' \")\n",
    "        if b1 not in hist:\n",
    "            hist.append(b1)\n",
    "            z=b1.split(',')\n",
    "            bx=z[0]\n",
    "            by=z[1]\n",
    "            game[int(bx)][int(by)]='X'\n",
    "            print(game)\n",
    "            \n",
    "        else:\n",
    "            print(\"Location alread in use\")\n",
    "\n",
    "        if i >=3:\n",
    "            Check_Tic_Tac_Toe(game)\n",
    "    return game\n",
    "########################################################################"
   ]
  },
  {
   "cell_type": "code",
   "execution_count": null,
   "metadata": {},
   "outputs": [
    {
     "name": "stdout",
     "output_type": "stream",
     "text": [
      "Player1 input location for 'o' 0,0\n",
      "[['o', 0, 0], [0, 0, 0], [0, 0, 0]]\n",
      "Player1 input location for 'x' 1,0\n",
      "[['o', 0, 0], ['X', 0, 0], [0, 0, 0]]\n",
      "Player1 input location for 'o' 0,1\n",
      "[['o', 'o', 0], ['X', 0, 0], [0, 0, 0]]\n",
      "Player1 input location for 'x' 1,1\n",
      "[['o', 'o', 0], ['X', 'X', 0], [0, 0, 0]]\n",
      "Player1 input location for 'o' 0,2\n",
      "[['o', 'o', 'o'], ['X', 'X', 0], [0, 0, 0]]\n",
      "Player1 input location for 'x' 1,0\n",
      "Location alread in use\n",
      "player o wins in colum / vertical.\n",
      "oo win\n",
      "Player1 input location for 'o' 2,0\n",
      "[['o', 'o', 'o'], ['X', 'X', 0], ['o', 0, 0]]\n",
      "Player1 input location for 'x' 2,1\n",
      "[['o', 'o', 'o'], ['X', 'X', 0], ['o', 'X', 0]]\n",
      "player o wins in colum / vertical.\n",
      "oo win\n"
     ]
    }
   ],
   "source": [
    "game=placein()"
   ]
  },
  {
   "cell_type": "markdown",
   "metadata": {},
   "source": [
    "## game"
   ]
  },
  {
   "cell_type": "code",
   "execution_count": 5,
   "metadata": {},
   "outputs": [
    {
     "ename": "NameError",
     "evalue": "name 'game' is not defined",
     "output_type": "error",
     "traceback": [
      "\u001b[1;31m---------------------------------------------------------------------------\u001b[0m",
      "\u001b[1;31mNameError\u001b[0m                                 Traceback (most recent call last)",
      "\u001b[1;32m<ipython-input-5-54ded209f5f2>\u001b[0m in \u001b[0;36m<module>\u001b[1;34m()\u001b[0m\n\u001b[0;32m      1\u001b[0m \u001b[1;33m\u001b[0m\u001b[0m\n\u001b[1;32m----> 2\u001b[1;33m \u001b[0mCheck_Tic_Tac_Toe\u001b[0m\u001b[1;33m(\u001b[0m\u001b[0mgame\u001b[0m\u001b[1;33m)\u001b[0m\u001b[1;33m\u001b[0m\u001b[0m\n\u001b[0m",
      "\u001b[1;31mNameError\u001b[0m: name 'game' is not defined"
     ]
    }
   ],
   "source": [
    "\n",
    "Check_Tic_Tac_Toe(game)"
   ]
  },
  {
   "cell_type": "code",
   "execution_count": 48,
   "metadata": {},
   "outputs": [
    {
     "data": {
      "text/plain": [
       "[['X', 'X', 'o'], ['o', 'o', 'X'], ['X', 'o', 0]]"
      ]
     },
     "execution_count": 48,
     "metadata": {},
     "output_type": "execute_result"
    }
   ],
   "source": [
    "game"
   ]
  },
  {
   "cell_type": "code",
   "execution_count": 64,
   "metadata": {
    "collapsed": true
   },
   "outputs": [],
   "source": [
    "game=[[0,0,0],\n",
    "      [0,0,0],\n",
    "      ['o','o','o']]"
   ]
  },
  {
   "cell_type": "code",
   "execution_count": 65,
   "metadata": {},
   "outputs": [
    {
     "name": "stdout",
     "output_type": "stream",
     "text": [
      "player o wins in row/ horizontal.\n",
      "oo win\n"
     ]
    }
   ],
   "source": [
    "Check_Tic_Tac_Toe(game)"
   ]
  },
  {
   "cell_type": "code",
   "execution_count": null,
   "metadata": {
    "collapsed": true
   },
   "outputs": [],
   "source": []
  }
 ],
 "metadata": {
  "kernelspec": {
   "display_name": "Python 3",
   "language": "python",
   "name": "python3"
  },
  "language_info": {
   "codemirror_mode": {
    "name": "ipython",
    "version": 3
   },
   "file_extension": ".py",
   "mimetype": "text/x-python",
   "name": "python",
   "nbconvert_exporter": "python",
   "pygments_lexer": "ipython3",
   "version": "3.6.3"
  }
 },
 "nbformat": 4,
 "nbformat_minor": 2
}

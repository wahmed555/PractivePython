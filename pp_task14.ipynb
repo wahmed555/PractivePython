{
 "cells": [
  {
   "cell_type": "markdown",
   "metadata": {},
   "source": [
    "# List Remove Duplicates\n",
    "\n",
    "Exercise 14 (and Solution)\n",
    "\n",
    "Write a program (function!) that takes a list and returns a new list that contains all the elements of the first list minus all the duplicates.\n",
    "\n",
    "Extras:\n",
    "\n",
    "    Write two different functions to do this - one using a loop and constructing a list, and another using sets.\n",
    "    Go back and do Exercise 5 using sets, and write the solution for that in a different function.\n"
   ]
  },
  {
   "cell_type": "code",
   "execution_count": 26,
   "metadata": {
    "collapsed": true
   },
   "outputs": [],
   "source": [
    "a=[4,9,2,4,6,11,5,4,2,3,67,3,2]"
   ]
  },
  {
   "cell_type": "code",
   "execution_count": 27,
   "metadata": {
    "collapsed": true
   },
   "outputs": [],
   "source": [
    "# this will generate Error\n",
    "# b=a"
   ]
  },
  {
   "cell_type": "code",
   "execution_count": 28,
   "metadata": {
    "collapsed": true
   },
   "outputs": [],
   "source": [
    "b=a[:]"
   ]
  },
  {
   "cell_type": "code",
   "execution_count": 29,
   "metadata": {},
   "outputs": [
    {
     "data": {
      "text/plain": [
       "[4, 9, 2, 4, 6, 11, 5, 4, 2, 3, 67, 3, 2]"
      ]
     },
     "execution_count": 29,
     "metadata": {},
     "output_type": "execute_result"
    }
   ],
   "source": [
    "b"
   ]
  },
  {
   "cell_type": "code",
   "execution_count": 30,
   "metadata": {},
   "outputs": [
    {
     "name": "stdout",
     "output_type": "stream",
     "text": [
      "[9, 6, 11, 5, 4, 67, 3, 2]\n"
     ]
    }
   ],
   "source": [
    "\n",
    "\n",
    "for i in b:\n",
    "    count=0\n",
    "#     remove the item from the list and count its frequency\n",
    "    while i in a:\n",
    "        count+=1\n",
    "        a.remove(i)     \n",
    "    while count>1:\n",
    "        count-=1\n",
    "        b.remove(i)\n",
    "print(b)"
   ]
  },
  {
   "cell_type": "code",
   "execution_count": 36,
   "metadata": {
    "collapsed": true
   },
   "outputs": [],
   "source": [
    "def uniq(a):\n",
    "    b=a[:]\n",
    "    for i in b:\n",
    "        count=0\n",
    "    #     remove the item from the list and count its frequency\n",
    "        while i in a:\n",
    "            count+=1\n",
    "            a.remove(i)     \n",
    "        while count>1:\n",
    "            count-=1\n",
    "            b.remove(i)\n",
    "    return b\n",
    "    \n",
    "    "
   ]
  },
  {
   "cell_type": "code",
   "execution_count": 38,
   "metadata": {},
   "outputs": [
    {
     "data": {
      "text/plain": [
       "[6, 9, 0, 3, 5, 1, 7, 8]"
      ]
     },
     "execution_count": 38,
     "metadata": {},
     "output_type": "execute_result"
    }
   ],
   "source": [
    "a=[5,6,7,5,9,0,3,5,1,7,8]\n",
    "uniq(a)"
   ]
  },
  {
   "cell_type": "markdown",
   "metadata": {
    "collapsed": true
   },
   "source": [
    "# Method of Book"
   ]
  },
  {
   "cell_type": "code",
   "execution_count": null,
   "metadata": {
    "collapsed": true
   },
   "outputs": [],
   "source": [
    "# Exercise 13:\n",
    "# Write a function that takes a list and returns a new list that contains \n",
    "# all the elements of the first list minus duplicates.\n",
    "\n",
    "# this one uses a for loop\n",
    "def dedupe_v1(x):\n",
    "y = []\n",
    "    for i in x:\n",
    "    if i not in y:\n",
    "        y.append(i)\n",
    "    return y\n",
    "\n",
    "#this one uses sets\n",
    "def dedupe_v2(x):\n",
    "    return list(set(x))\n",
    "\n",
    "a = [1,2,3,4,3,2,1]\n",
    "print a\n",
    "print dedupe_v1(a)\n",
    "print dedupe_v2(a)"
   ]
  }
 ],
 "metadata": {
  "kernelspec": {
   "display_name": "Python 3",
   "language": "python",
   "name": "python3"
  },
  "language_info": {
   "codemirror_mode": {
    "name": "ipython",
    "version": 3
   },
   "file_extension": ".py",
   "mimetype": "text/x-python",
   "name": "python",
   "nbconvert_exporter": "python",
   "pygments_lexer": "ipython3",
   "version": "3.6.3"
  }
 },
 "nbformat": 4,
 "nbformat_minor": 2
}

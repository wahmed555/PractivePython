{
 "cells": [
  {
   "cell_type": "code",
   "execution_count": 1,
   "metadata": {
    "collapsed": true
   },
   "outputs": [],
   "source": [
    "import random\n",
    "def gen4digit_random():\n",
    "    return random.randint(1000,9999)"
   ]
  },
  {
   "cell_type": "code",
   "execution_count": 2,
   "metadata": {},
   "outputs": [
    {
     "name": "stdout",
     "output_type": "stream",
     "text": [
      "Enter the user input 34343\n"
     ]
    }
   ],
   "source": [
    "i=gen4digit_random()\n",
    "u=int(input(\"Enter the user input \"))"
   ]
  },
  {
   "cell_type": "code",
   "execution_count": 3,
   "metadata": {
    "collapsed": true
   },
   "outputs": [],
   "source": [
    "def seprate(u):\n",
    "    u0=u//1000\n",
    "    r1=u%1000\n",
    "    u1=r1//100\n",
    "    r2=r1%100\n",
    "    u2=r2//10\n",
    "    r3=r2%10\n",
    "    return u0,u1,u2,r3"
   ]
  },
  {
   "cell_type": "code",
   "execution_count": 4,
   "metadata": {
    "collapsed": true
   },
   "outputs": [],
   "source": [
    "i=seprate(u)\n",
    "j=seprate(gen4digit_random())"
   ]
  },
  {
   "cell_type": "code",
   "execution_count": 5,
   "metadata": {
    "collapsed": true
   },
   "outputs": [],
   "source": [
    "def compary(i,j):\n",
    "    kcow=0\n",
    "    kbull=0\n",
    "    if (i[0]==j[0]):\n",
    "#         print(\"cow\")\n",
    "        kcow+=1\n",
    "    else:\n",
    "        kbull+=1\n",
    "        \n",
    "    if (i[1]==j[1]):\n",
    "#         print(\"cow\")\n",
    "        kcow+=1\n",
    "    else:\n",
    "        kbull+=1\n",
    "    if (i[2]==j[2]):\n",
    "#         print(\"cow\")\n",
    "        kcow+=1\n",
    "    else:\n",
    "        kbull+=1\n",
    "    if (i[3]==j[3]):\n",
    "#         print(\"cow\")\n",
    "        kcow+=1\n",
    "    else:\n",
    "        kbull+=1\n",
    "    return kcow,kbull"
   ]
  },
  {
   "cell_type": "code",
   "execution_count": 6,
   "metadata": {
    "collapsed": true
   },
   "outputs": [],
   "source": [
    "k=compary(i,j)"
   ]
  },
  {
   "cell_type": "code",
   "execution_count": null,
   "metadata": {
    "collapsed": true
   },
   "outputs": [],
   "source": []
  },
  {
   "cell_type": "code",
   "execution_count": null,
   "metadata": {
    "collapsed": true
   },
   "outputs": [],
   "source": [
    "## import random\n",
    "\n",
    "r0=gen4digit_random()\n",
    "matching=True\n",
    "count=0\n",
    "while (matching):\n",
    "    \n",
    "    count+=1\n",
    "    u=input(\"Enter the user input \")\n",
    "    \n",
    "    if u=='q':\n",
    "        print(j)\n",
    "        break\n",
    "    uint=int(u)    \n",
    "    i=seprate(uint)\n",
    "    j=seprate(r0)\n",
    "    k=compary(i,j)\n",
    "    k[0]\n",
    "    k[1]\n",
    "    print(\"cow=%d ,bull= %d \" %(k[0],k[1]))\n",
    "    if k[0]==4:\n",
    "        matching=False\n",
    "        print( \"you guessed in \", count)\n",
    "    else:\n",
    "        matching=True"
   ]
  },
  {
   "cell_type": "code",
   "execution_count": null,
   "metadata": {
    "collapsed": true
   },
   "outputs": [],
   "source": []
  }
 ],
 "metadata": {
  "kernelspec": {
   "display_name": "Python 3",
   "language": "python",
   "name": "python3"
  },
  "language_info": {
   "codemirror_mode": {
    "name": "ipython",
    "version": 3
   },
   "file_extension": ".py",
   "mimetype": "text/x-python",
   "name": "python",
   "nbconvert_exporter": "python",
   "pygments_lexer": "ipython3",
   "version": "3.6.3"
  }
 },
 "nbformat": 4,
 "nbformat_minor": 2
}

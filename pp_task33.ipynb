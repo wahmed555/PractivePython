{
 "cells": [
  {
   "cell_type": "markdown",
   "metadata": {},
   "source": [
    "Birthday Dictionaries \n",
    "Exercise 33 (and Solution)\n",
    "This exercise is Part 1 of 4 of the birthday data exercise series. The other exercises are: Part 2, Part 3, and Part 4.\n",
    "\n",
    "For this exercise, we will keep track of when our friend’s birthdays are, and be able to find that information based on their name. Create a dictionary (in your file) of names and birthdays. When you run your program it should ask the user to enter a name, and return the birthday of that person back to them. The interaction should look something like this:\n",
    "\n",
    ">>> Welcome to the birthday dictionary. We know the birthdays of:\n",
    "Albert Einstein\n",
    "Benjamin Franklin\n",
    "Ada Lovelace\n",
    ">>> Who's birthday do you want to look up?\n",
    "Benjamin Franklin\n",
    ">>> Benjamin Franklin's birthday is 01/17/1706.\n",
    "Happy coding!"
   ]
  },
  {
   "cell_type": "code",
   "execution_count": 24,
   "metadata": {
    "scrolled": true
   },
   "outputs": [
    {
     "name": "stdout",
     "output_type": "stream",
     "text": [
      "Welcome to the birthday dictionary.\n",
      "We know the birthdays of:\n",
      "Rahim\n",
      "Qari\n",
      "hamza\n",
      "whose birday you are looking for ?Qari\n",
      "Qari birthday is 30-02-1992\n",
      "press 'q' to quit and i to add: g\n",
      "Enter the name of friendWali\n",
      "Enter the birth date of 3-8-2009\n",
      "{'Rahim': '12-05-1985', 'Qari': '30-02-1992', 'hamza': '18-11-1997', 'Wali': '3-8-2009'}\n"
     ]
    }
   ],
   "source": [
    "bdays={\"Rahim\":\"12-05-1985\",\n",
    "        \"Qari\":\"30-02-1992\",\n",
    "        \"hamza\":\"18-11-1997\"}\n",
    "print(\"Welcome to the birthday dictionary.\")\n",
    "print(\"We know the birthdays of:\")\n",
    "\n",
    "for i in bdays.keys():\n",
    "    print(i)\n",
    "\n",
    "search=input(\"whose birday you are looking for ?\")\n",
    "Date4rmDict=bdays[search]\n",
    "print(search+ \" birthday is \"+Date4rmDict)\n",
    "\n",
    "k=input(\"press 'q' to quit and i to add: \")\n",
    "if (k!='q'):\n",
    "    key1=input(\"Enter the name of friend\")\n",
    "    value1=input(\"Enter the birth date of \")\n",
    "    bdays[key1]=value1\n",
    "    bdays.keys()\n",
    "print(bdays)"
   ]
  },
  {
   "cell_type": "code",
   "execution_count": null,
   "metadata": {},
   "outputs": [],
   "source": []
  }
 ],
 "metadata": {
  "kernelspec": {
   "display_name": "Python 3",
   "language": "python",
   "name": "python3"
  },
  "language_info": {
   "codemirror_mode": {
    "name": "ipython",
    "version": 3
   },
   "file_extension": ".py",
   "mimetype": "text/x-python",
   "name": "python",
   "nbconvert_exporter": "python",
   "pygments_lexer": "ipython3",
   "version": "3.6.5"
  }
 },
 "nbformat": 4,
 "nbformat_minor": 2
}

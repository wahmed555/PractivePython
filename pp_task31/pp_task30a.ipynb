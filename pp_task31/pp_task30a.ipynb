{
 "cells": [
  {
   "cell_type": "markdown",
   "metadata": {},
   "source": [
    "Pick Word\n",
    "\n",
    "Exercise 30 (and Solution)\n",
    "\n",
    "This exercise is Part 1 of 3 of the Hangman exercise series. The other exercises are: Part 2 and\n",
    "Part 3.\n",
    "In this exercise, the task is to write a function that picks a random word from a list of\n",
    "words from the SOWPODS dictionary. Download this file and save it in the same\n",
    "directory as your Python code. This file is Peter Norvig’s compilation of the dictionary of\n",
    "words used in professional Scrabble tournaments. Each line in the file contains a single\n",
    "word.\n",
    "Hint: use the Python random library for picking a random word.\n",
    "Aside: what is SOWPODS\n",
    "SOWPODS is a word list commonly used in word puzzles and games (like Scrabble for\n",
    "example). It is the combination of the Scrabble Player’s Dictionary and the Chamber’s\n",
    "Dictionary. (The history of SOWPODS is quite interesting, I highly recommend reading\n",
    "the Wikipedia article if you are curious.)\n",
    "Previous exercises with similar concepts\n",
    "In previous exercises, we have covered all the necessary skills needed to complete this\n",
    "exercise. Check out:\n",
    "1. Exercise 22: read from a file\n",
    "2. Exercise 9: generating a random number\n",
    "3. Exercise 3: accessing an element of a list"
   ]
  },
  {
   "cell_type": "code",
   "execution_count": 30,
   "metadata": {},
   "outputs": [
    {
     "data": {
      "text/plain": [
       "'RADAR\\n'"
      ]
     },
     "execution_count": 30,
     "metadata": {},
     "output_type": "execute_result"
    }
   ],
   "source": [
    "# MEthod #1\n",
    "\n",
    "import random\n",
    "\n",
    "with open(\"hanglist.txt\",\"r\") as f_obj:\n",
    "    line=f_obj.readlines()\n",
    "\n",
    "randomPick=random.choice(line)\n",
    "randomPick"
   ]
  },
  {
   "cell_type": "code",
   "execution_count": 15,
   "metadata": {},
   "outputs": [],
   "source": [
    "\n"
   ]
  },
  {
   "cell_type": "code",
   "execution_count": 31,
   "metadata": {},
   "outputs": [
    {
     "name": "stdout",
     "output_type": "stream",
     "text": [
      "191849\n"
     ]
    },
    {
     "data": {
      "text/plain": [
       "'REENFORCED\\n'"
      ]
     },
     "execution_count": 31,
     "metadata": {},
     "output_type": "execute_result"
    }
   ],
   "source": [
    "\n",
    "# Method #2\n",
    "import random\n",
    "\n",
    "with open(\"hanglist.txt\",\"r\") as f_obj:\n",
    "    line=f_obj.readlines()\n",
    "\n",
    "ranNum=random.randint(1,len(line))\n",
    "randomPick=line[ranNum]\n",
    "print(ranNum)\n",
    "randomPick"
   ]
  },
  {
   "cell_type": "code",
   "execution_count": 32,
   "metadata": {},
   "outputs": [
    {
     "name": "stdout",
     "output_type": "stream",
     "text": [
      "93533\n",
      "GENITIVELY\n",
      "\n"
     ]
    }
   ],
   "source": [
    "# Method # 3  given solution\n",
    "\n",
    "import random #importing random module\n",
    "with open('hanglist.txt','r') as f: #opening txt file\n",
    "    line = f.readlines() #reading lines of txt file\n",
    "\n",
    "list(line) #storing the txt file in list\n",
    "\n",
    "random_number = (random.randint(0,len(line))) #generating random number\n",
    "\n",
    "print(random_number)\n",
    "print(line[random_number]) #indexing random number\n"
   ]
  },
  {
   "cell_type": "code",
   "execution_count": null,
   "metadata": {},
   "outputs": [],
   "source": []
  },
  {
   "cell_type": "code",
   "execution_count": 11,
   "metadata": {},
   "outputs": [
    {
     "data": {
      "text/plain": [
       "7"
      ]
     },
     "execution_count": 11,
     "metadata": {},
     "output_type": "execute_result"
    }
   ],
   "source": [
    "p=\"current\"\n",
    "s=p.split()\n",
    "l=len(p)\n",
    "l"
   ]
  },
  {
   "cell_type": "code",
   "execution_count": 24,
   "metadata": {},
   "outputs": [
    {
     "name": "stdout",
     "output_type": "stream",
     "text": [
      "Enter the user guesst\n",
      "t\n"
     ]
    },
    {
     "ename": "TypeError",
     "evalue": "'str' object does not support item assignment",
     "output_type": "error",
     "traceback": [
      "\u001b[1;31m---------------------------------------------------------------------------\u001b[0m",
      "\u001b[1;31mTypeError\u001b[0m                                 Traceback (most recent call last)",
      "\u001b[1;32m<ipython-input-24-aa91192c9c3a>\u001b[0m in \u001b[0;36m<module>\u001b[1;34m()\u001b[0m\n\u001b[0;32m      6\u001b[0m         \u001b[1;32mif\u001b[0m \u001b[0mk\u001b[0m\u001b[1;33m==\u001b[0m\u001b[0mp\u001b[0m\u001b[1;33m[\u001b[0m\u001b[0mi\u001b[0m\u001b[1;33m]\u001b[0m\u001b[1;33m:\u001b[0m\u001b[1;33m\u001b[0m\u001b[0m\n\u001b[0;32m      7\u001b[0m             \u001b[0mprint\u001b[0m\u001b[1;33m(\u001b[0m\u001b[0mp\u001b[0m\u001b[1;33m[\u001b[0m\u001b[0mi\u001b[0m\u001b[1;33m]\u001b[0m\u001b[1;33m)\u001b[0m\u001b[1;33m\u001b[0m\u001b[0m\n\u001b[1;32m----> 8\u001b[1;33m             \u001b[0mj\u001b[0m\u001b[1;33m[\u001b[0m\u001b[0mi\u001b[0m\u001b[1;33m]\u001b[0m\u001b[1;33m=\u001b[0m\u001b[0mk\u001b[0m\u001b[1;33m\u001b[0m\u001b[0m\n\u001b[0m\u001b[0;32m      9\u001b[0m \u001b[1;33m\u001b[0m\u001b[0m\n\u001b[0;32m     10\u001b[0m         \u001b[1;32melse\u001b[0m\u001b[1;33m:\u001b[0m\u001b[1;33m\u001b[0m\u001b[0m\n",
      "\u001b[1;31mTypeError\u001b[0m: 'str' object does not support item assignment"
     ]
    }
   ],
   "source": [
    "j=\"*\"*l\n",
    "count=0\n",
    "while(count<10 or  k=='q'):\n",
    "    k=input(\"Enter the user guess\")\n",
    "    for i in range(1,l):\n",
    "        if k==p[i]:\n",
    "            print(p[i])\n",
    "            j[i]=k\n",
    "               \n",
    "        else:    \n",
    "            pass\n",
    "    print(j)\n",
    "    count+=1\n"
   ]
  },
  {
   "cell_type": "code",
   "execution_count": 13,
   "metadata": {},
   "outputs": [
    {
     "data": {
      "text/plain": [
       "'*******'"
      ]
     },
     "execution_count": 13,
     "metadata": {},
     "output_type": "execute_result"
    }
   ],
   "source": [
    "j"
   ]
  },
  {
   "cell_type": "code",
   "execution_count": 2,
   "metadata": {},
   "outputs": [
    {
     "data": {
      "text/plain": [
       "list"
      ]
     },
     "execution_count": 2,
     "metadata": {},
     "output_type": "execute_result"
    }
   ],
   "source": [
    "list"
   ]
  },
  {
   "cell_type": "code",
   "execution_count": 4,
   "metadata": {},
   "outputs": [
    {
     "data": {
      "text/plain": [
       "267751"
      ]
     },
     "execution_count": 4,
     "metadata": {},
     "output_type": "execute_result"
    }
   ],
   "source": [
    "len(line)"
   ]
  },
  {
   "cell_type": "code",
   "execution_count": 5,
   "metadata": {},
   "outputs": [
    {
     "data": {
      "text/plain": [
       "69037"
      ]
     },
     "execution_count": 5,
     "metadata": {},
     "output_type": "execute_result"
    }
   ],
   "source": [
    "random_number"
   ]
  },
  {
   "cell_type": "code",
   "execution_count": 33,
   "metadata": {},
   "outputs": [
    {
     "data": {
      "text/plain": [
       "'GENITIVELY\\n'"
      ]
     },
     "execution_count": 33,
     "metadata": {},
     "output_type": "execute_result"
    }
   ],
   "source": [
    "line[random_number]"
   ]
  },
  {
   "cell_type": "code",
   "execution_count": null,
   "metadata": {},
   "outputs": [],
   "source": []
  }
 ],
 "metadata": {
  "kernelspec": {
   "display_name": "Python 3",
   "language": "python",
   "name": "python3"
  },
  "language_info": {
   "codemirror_mode": {
    "name": "ipython",
    "version": 3
   },
   "file_extension": ".py",
   "mimetype": "text/x-python",
   "name": "python",
   "nbconvert_exporter": "python",
   "pygments_lexer": "ipython3",
   "version": "3.6.5"
  }
 },
 "nbformat": 4,
 "nbformat_minor": 2
}

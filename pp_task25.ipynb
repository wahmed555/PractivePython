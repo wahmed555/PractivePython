{
 "cells": [
  {
   "cell_type": "markdown",
   "metadata": {},
   "source": [
    "Guessing Game Two   \n",
    "Exercise 25 (and Solution)\n",
    "In a previous exercise, we’ve written a program that “knows” a number and asks a user to guess it.\n",
    "\n",
    "This time, we’re going to do exactly the opposite. You, the user, will have in your head a number between 0 and 100. The program will guess a number, and you, the user, will say whether it is too high, too low, or your number.\n",
    "\n",
    "At the end of this exchange, your program should print out how many guesses it took to get your number.\n",
    "\n",
    "As the writer of this program, you will have to choose how your program will strategically guess. A naive strategy can be to simply start the guessing at 1, and keep going (2, 3, 4, etc.) until you hit the number. But that’s not an optimal guessing strategy. An alternate strategy might be to guess 50 (right in the middle of the range), and then increase / decrease by 1 as needed. After you’ve written the program, try to find the optimal strategy! (We’ll talk about what is the optimal one next week with the solution.)"
   ]
  },
  {
   "cell_type": "code",
   "execution_count": 3,
   "metadata": {},
   "outputs": [
    {
     "name": "stdout",
     "output_type": "stream",
     "text": [
      "68\n",
      "if guess is equal to 50 press e \n",
      " if guess is greater than 50 press g \n",
      " if guess is less than 50 press L l\n",
      "47\n",
      "if guess is equal to 25 press e \n",
      " if guess is greater than 25 press g \n",
      " if guess is less than 25 press L l\n",
      "18\n",
      "if guess is equal to 12 press e \n",
      " if guess is greater than 12 press g \n",
      " if guess is less than 12 press L l\n",
      "8\n",
      "if guess is equal to 6 press e \n",
      " if guess is greater than 6 press g \n",
      " if guess is less than 6 press L e\n",
      "computer guessed correctly 6\n",
      "computer guessed in 3 \n"
     ]
    }
   ],
   "source": [
    "\n",
    "import random\n",
    "# i=input(\"Enter the guess or press q if guessed correctly\")\n",
    "upperl=100\n",
    "lowerl=0\n",
    "count=0\n",
    "j=True\n",
    "while(j!='q'):\n",
    "    guess=random.randint(lowerl,upperl)\n",
    "    print(guess)\n",
    "#     y=input(\"what you expected\")\n",
    "    j=input(\"if guess is equal to \"+ str((upperl+lowerl)//2) + \" press e \" + \\\n",
    "            \"\\n if guess is greater than \"+ str((upperl+lowerl)//2) + \" press g \" + \\\n",
    "            \"\\n if guess is less than \"+ str((upperl+lowerl)//2) + \" press L \") \n",
    "\n",
    "    if j=='e':\n",
    "        print(\"computer guessed correctly\", (upperl+lowerl)//2)\n",
    "        break\n",
    "    elif j=='g':\n",
    "        lowerl= (upperl+lowerl)//2\n",
    "    elif j=='l':\n",
    "        upperl=(upperl+lowerl)//2\n",
    "        \n",
    "    count+=1 \n",
    "            \n",
    "print(\"computer guessed in %d \" %count)"
   ]
  },
  {
   "cell_type": "code",
   "execution_count": null,
   "metadata": {},
   "outputs": [],
   "source": []
  }
 ],
 "metadata": {
  "kernelspec": {
   "display_name": "Python 3",
   "language": "python",
   "name": "python3"
  },
  "language_info": {
   "codemirror_mode": {
    "name": "ipython",
    "version": 3
   },
   "file_extension": ".py",
   "mimetype": "text/x-python",
   "name": "python",
   "nbconvert_exporter": "python",
   "pygments_lexer": "ipython3",
   "version": "3.6.5"
  }
 },
 "nbformat": 4,
 "nbformat_minor": 2
}

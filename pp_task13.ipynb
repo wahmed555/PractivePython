{
 "cells": [
  {
   "cell_type": "markdown",
   "metadata": {},
   "source": [
    "Fibonacci  \n",
    "Exercise 13 (and Solution)\n",
    "\n",
    "Write a program that asks the user how many Fibonnaci numbers to generate and then generates them. Take this opportunity to think about how you can use functions. Make sure to ask the user to enter the number of numbers in the sequence to generate.(Hint: The Fibonnaci seqence is a sequence of numbers where the next number in the sequence is the sum of the previous two numbers in the sequence. The sequence looks like this: 1, 1, 2, 3, 5, 8, 13, …)"
   ]
  },
  {
   "cell_type": "code",
   "execution_count": 25,
   "metadata": {},
   "outputs": [],
   "source": [
    "#  Testing Logic\n",
    "u=11\n",
    "c=[1,1]\n",
    "for i in range(1,u-1):\n",
    "    b=c[i]+c[i-1]\n",
    "    c.append(b)"
   ]
  },
  {
   "cell_type": "code",
   "execution_count": 26,
   "metadata": {},
   "outputs": [
    {
     "data": {
      "text/plain": [
       "[1, 1, 2, 3, 5, 8, 13, 21, 34, 55, 89]"
      ]
     },
     "execution_count": 26,
     "metadata": {},
     "output_type": "execute_result"
    }
   ],
   "source": [
    "c"
   ]
  },
  {
   "cell_type": "code",
   "execution_count": 33,
   "metadata": {},
   "outputs": [
    {
     "name": "stdout",
     "output_type": "stream",
     "text": [
      "Enter the length of  Fibonnaci 5\n",
      "[1, 1, 2, 3, 5]\n"
     ]
    }
   ],
   "source": [
    "#\n",
    "u= int(input(\"Enter the length of  Fibonnaci \"))\n",
    "\n",
    "if u==0:\n",
    "    c=[]\n",
    "elif u==1:\n",
    "    c=[1]\n",
    "elif u>=2:\n",
    "    c=[1,1]\n",
    "    for i in range(1,u-1):\n",
    "        c.append(c[i]+c[i-1])\n",
    "else :\n",
    "    print(\"in appropriate\")\n",
    "\n",
    "print(c)\n",
    "\n",
    "    \n"
   ]
  },
  {
   "cell_type": "code",
   "execution_count": 34,
   "metadata": {},
   "outputs": [],
   "source": [
    "# Method 3 : using function\n",
    "def fib():\n",
    "    u= int(input(\"Enter the length of  Fibonnaci \"))\n",
    "\n",
    "    if u==0:\n",
    "        c=[]\n",
    "    elif u==1:\n",
    "        c=[1]\n",
    "    elif u>=2:\n",
    "        c=[1,1]\n",
    "        for i in range(1,u-1):\n",
    "            c.append(c[i]+c[i-1])\n",
    "    else :\n",
    "        print(\"in appropriate\")\n",
    "\n",
    "    print(c)\n"
   ]
  },
  {
   "cell_type": "code",
   "execution_count": 37,
   "metadata": {},
   "outputs": [
    {
     "name": "stdout",
     "output_type": "stream",
     "text": [
      "Enter the length of  Fibonnaci 16\n",
      "[1, 1, 2, 3, 5, 8, 13, 21, 34, 55, 89, 144, 233, 377, 610, 987]\n"
     ]
    }
   ],
   "source": [
    "fib()"
   ]
  },
  {
   "cell_type": "code",
   "execution_count": null,
   "metadata": {},
   "outputs": [],
   "source": []
  }
 ],
 "metadata": {
  "kernelspec": {
   "display_name": "Python 3",
   "language": "python",
   "name": "python3"
  },
  "language_info": {
   "codemirror_mode": {
    "name": "ipython",
    "version": 3
   },
   "file_extension": ".py",
   "mimetype": "text/x-python",
   "name": "python",
   "nbconvert_exporter": "python",
   "pygments_lexer": "ipython3",
   "version": "3.6.5"
  }
 },
 "nbformat": 4,
 "nbformat_minor": 2
}
